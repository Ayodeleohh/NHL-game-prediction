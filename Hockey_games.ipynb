{
 "cells": [
  {
   "cell_type": "markdown",
   "metadata": {
    "slideshow": {
     "slide_type": "slide"
    }
   },
   "source": [
    "# Predicting the Outcome of NHL Games\n",
    "\n",
    "Sports over time have been largely dominated by the use of numbers and statistics. Moneyball, the 2011 movie demonstrating a statistical approach in developing a competitive team using baseball statistics, shows one approach of how statistics, and machine learning to an extent, can predict and optimize the outcome of sports (in this case it was choosing players for a team).\n",
    "\n",
    "Today I will be attempting to see if I can predict the outcome of NHL matches using machine learning tools, particularly the Random Forest Classifier.\n",
    "\n",
    "<img src=\"files/SportsReference.png\">\n",
    "\n",
    "The datasets I will be using are from www.hockey-reference.com, part of the www.sports-reference.com sites. Sports-Reference has other excellent data including:\n",
    "- College Football (and NFL)\n",
    "- College Basketball (and NBA)\n",
    "- Olympic Sports\n",
    "- NHL\n",
    "\n",
    "The huge amount of data available on these sites are an excellent source to practice machine learning as much of the data is cleaned and well organized."
   ]
  },
  {
   "cell_type": "markdown",
   "metadata": {
    "slideshow": {
     "slide_type": "slide"
    }
   },
   "source": [
    "Here are the direct links if you wish to view the two datasets I use to build my model:\n",
    "\n",
    "- Games 2014 data: http://www.hockey-reference.com/leagues/NHL_2014_games.html\n",
    "- Standings 2013 data: http://www.hockey-reference.com/leagues/NHL_2013_standings.html"
   ]
  },
  {
   "cell_type": "markdown",
   "metadata": {
    "slideshow": {
     "slide_type": "slide"
    }
   },
   "source": [
    "## Getting Started: Preliminary Setup\n",
    "\n",
    "Let's begin by exporting the data as well as fixing any issues such as renaming columns."
   ]
  },
  {
   "cell_type": "code",
   "execution_count": 2,
   "metadata": {
    "collapsed": false,
    "slideshow": {
     "slide_type": "fragment"
    }
   },
   "outputs": [],
   "source": [
    "import os\n",
    "import numpy as np\n",
    "import pandas as pd\n",
    "\n",
    "os.chdir('C:/Users/Kevin/My Project/Hockey')\n",
    "games_filename = ('leagues_NHL_2014_games_games.csv')\n",
    "playoff_filename = ('leagues_NHL_2014_games_games_playoffs.csv')"
   ]
  },
  {
   "cell_type": "code",
   "execution_count": 3,
   "metadata": {
    "collapsed": false,
    "slideshow": {
     "slide_type": "slide"
    }
   },
   "outputs": [
    {
     "data": {
      "text/html": [
       "<div>\n",
       "<table border=\"1\" class=\"dataframe\">\n",
       "  <thead>\n",
       "    <tr style=\"text-align: right;\">\n",
       "      <th></th>\n",
       "      <th>Date</th>\n",
       "      <th>Visitor</th>\n",
       "      <th>G</th>\n",
       "      <th>Home</th>\n",
       "      <th>G.1</th>\n",
       "      <th>Unnamed: 5</th>\n",
       "      <th>Unnamed: 6</th>\n",
       "      <th>Att.</th>\n",
       "      <th>LOG</th>\n",
       "      <th>Notes</th>\n",
       "      <th>Notes.1</th>\n",
       "    </tr>\n",
       "  </thead>\n",
       "  <tbody>\n",
       "    <tr>\n",
       "      <th>0</th>\n",
       "      <td>2013-10-01</td>\n",
       "      <td>Washington Capitals</td>\n",
       "      <td>4.0</td>\n",
       "      <td>Chicago Blackhawks</td>\n",
       "      <td>6.0</td>\n",
       "      <td>NaN</td>\n",
       "      <td>NaN</td>\n",
       "      <td>NaN</td>\n",
       "      <td>NaN</td>\n",
       "      <td>NaN</td>\n",
       "      <td>NaN</td>\n",
       "    </tr>\n",
       "    <tr>\n",
       "      <th>1</th>\n",
       "      <td>2013-10-01</td>\n",
       "      <td>Winnipeg Jets</td>\n",
       "      <td>5.0</td>\n",
       "      <td>Edmonton Oilers</td>\n",
       "      <td>4.0</td>\n",
       "      <td>NaN</td>\n",
       "      <td>NaN</td>\n",
       "      <td>NaN</td>\n",
       "      <td>NaN</td>\n",
       "      <td>NaN</td>\n",
       "      <td>NaN</td>\n",
       "    </tr>\n",
       "    <tr>\n",
       "      <th>2</th>\n",
       "      <td>2013-10-01</td>\n",
       "      <td>Toronto Maple Leafs</td>\n",
       "      <td>4.0</td>\n",
       "      <td>Montreal Canadiens</td>\n",
       "      <td>3.0</td>\n",
       "      <td>NaN</td>\n",
       "      <td>NaN</td>\n",
       "      <td>NaN</td>\n",
       "      <td>NaN</td>\n",
       "      <td>NaN</td>\n",
       "      <td>NaN</td>\n",
       "    </tr>\n",
       "    <tr>\n",
       "      <th>3</th>\n",
       "      <td>2013-10-02</td>\n",
       "      <td>Anaheim Ducks</td>\n",
       "      <td>1.0</td>\n",
       "      <td>Colorado Avalanche</td>\n",
       "      <td>6.0</td>\n",
       "      <td>NaN</td>\n",
       "      <td>NaN</td>\n",
       "      <td>NaN</td>\n",
       "      <td>NaN</td>\n",
       "      <td>NaN</td>\n",
       "      <td>NaN</td>\n",
       "    </tr>\n",
       "    <tr>\n",
       "      <th>4</th>\n",
       "      <td>2013-10-02</td>\n",
       "      <td>Buffalo Sabres</td>\n",
       "      <td>1.0</td>\n",
       "      <td>Detroit Red Wings</td>\n",
       "      <td>2.0</td>\n",
       "      <td>NaN</td>\n",
       "      <td>NaN</td>\n",
       "      <td>NaN</td>\n",
       "      <td>NaN</td>\n",
       "      <td>NaN</td>\n",
       "      <td>NaN</td>\n",
       "    </tr>\n",
       "  </tbody>\n",
       "</table>\n",
       "</div>"
      ],
      "text/plain": [
       "         Date              Visitor    G                Home  G.1 Unnamed: 5  \\\n",
       "0  2013-10-01  Washington Capitals  4.0  Chicago Blackhawks  6.0        NaN   \n",
       "1  2013-10-01        Winnipeg Jets  5.0     Edmonton Oilers  4.0        NaN   \n",
       "2  2013-10-01  Toronto Maple Leafs  4.0  Montreal Canadiens  3.0        NaN   \n",
       "3  2013-10-02        Anaheim Ducks  1.0  Colorado Avalanche  6.0        NaN   \n",
       "4  2013-10-02       Buffalo Sabres  1.0   Detroit Red Wings  2.0        NaN   \n",
       "\n",
       "   Unnamed: 6  Att.  LOG Notes Notes.1  \n",
       "0         NaN   NaN  NaN   NaN     NaN  \n",
       "1         NaN   NaN  NaN   NaN     NaN  \n",
       "2         NaN   NaN  NaN   NaN     NaN  \n",
       "3         NaN   NaN  NaN   NaN     NaN  \n",
       "4         NaN   NaN  NaN   NaN     NaN  "
      ]
     },
     "execution_count": 3,
     "metadata": {},
     "output_type": "execute_result"
    }
   ],
   "source": [
    "# Let's take a look at the datafile containing all the matches:\n",
    "results = pd.read_csv(games_filename)\n",
    "results_playoff = pd.read_csv(playoff_filename)\n",
    "\n",
    "results.head()"
   ]
  },
  {
   "cell_type": "code",
   "execution_count": 4,
   "metadata": {
    "collapsed": false,
    "slideshow": {
     "slide_type": "fragment"
    }
   },
   "outputs": [
    {
     "data": {
      "text/plain": [
       "Date    object\n",
       "dtype: object"
      ]
     },
     "execution_count": 4,
     "metadata": {},
     "output_type": "execute_result"
    }
   ],
   "source": [
    "# Did Pandas interpret the \"Date\" column as actual dates?\n",
    "results.dtypes.head(1)"
   ]
  },
  {
   "cell_type": "markdown",
   "metadata": {
    "slideshow": {
     "slide_type": "slide"
    }
   },
   "source": [
    "Pandas did not interpret the 'Date' column as actual dates, we will need to add an extra parameter in our \"read_csv\" function to fix this issue.\n",
    "\n",
    "The dataset for the 2014 games are split up into two different datasets:\n",
    "1. Regular Season\n",
    "2. Playoff Season\n",
    "\n",
    "I will combine both datasets into a single dataframe."
   ]
  },
  {
   "cell_type": "code",
   "execution_count": 5,
   "metadata": {
    "collapsed": true,
    "slideshow": {
     "slide_type": "fragment"
    }
   },
   "outputs": [],
   "source": [
    "# Import both datasets\n",
    "results1 = pd.read_csv(games_filename, parse_dates=[\"Date\"])\n",
    "results2 = pd.read_csv(playoff_filename, parse_dates=[\"Date\"])"
   ]
  },
  {
   "cell_type": "code",
   "execution_count": 6,
   "metadata": {
    "collapsed": false,
    "slideshow": {
     "slide_type": "fragment"
    }
   },
   "outputs": [],
   "source": [
    "# We will be using \"results\" as our main dataframe when building our model\n",
    "results = results1.append(results2, ignore_index=True)"
   ]
  },
  {
   "cell_type": "code",
   "execution_count": 7,
   "metadata": {
    "collapsed": false,
    "slideshow": {
     "slide_type": "fragment"
    }
   },
   "outputs": [],
   "source": [
    "# Let us clean and fix some of the issues in the dataframe above\n",
    "# Fix the names of the columns\n",
    "results.columns = [\"Date\", \"Visitor Team\", \"Visitor Goals\", \"Home Team\", \"Home Goals\", \\\n",
    "                   \"Overtime\", \"Blank\", \"Att\", \"LOG\", \"Notes1\", \"Notes2\"]\n",
    "\n",
    "# Delete the columns we do not need in our analysis\n",
    "results = results.drop(results.columns[[5,6,7,8,9,10]], axis=1)"
   ]
  },
  {
   "cell_type": "code",
   "execution_count": 8,
   "metadata": {
    "collapsed": false,
    "slideshow": {
     "slide_type": "slide"
    }
   },
   "outputs": [
    {
     "data": {
      "text/html": [
       "<div>\n",
       "<table border=\"1\" class=\"dataframe\">\n",
       "  <thead>\n",
       "    <tr style=\"text-align: right;\">\n",
       "      <th></th>\n",
       "      <th>Date</th>\n",
       "      <th>Visitor Team</th>\n",
       "      <th>Visitor Goals</th>\n",
       "      <th>Home Team</th>\n",
       "      <th>Home Goals</th>\n",
       "    </tr>\n",
       "  </thead>\n",
       "  <tbody>\n",
       "    <tr>\n",
       "      <th>0</th>\n",
       "      <td>2013-10-01</td>\n",
       "      <td>Washington Capitals</td>\n",
       "      <td>4.0</td>\n",
       "      <td>Chicago Blackhawks</td>\n",
       "      <td>6.0</td>\n",
       "    </tr>\n",
       "    <tr>\n",
       "      <th>1</th>\n",
       "      <td>2013-10-01</td>\n",
       "      <td>Winnipeg Jets</td>\n",
       "      <td>5.0</td>\n",
       "      <td>Edmonton Oilers</td>\n",
       "      <td>4.0</td>\n",
       "    </tr>\n",
       "    <tr>\n",
       "      <th>2</th>\n",
       "      <td>2013-10-01</td>\n",
       "      <td>Toronto Maple Leafs</td>\n",
       "      <td>4.0</td>\n",
       "      <td>Montreal Canadiens</td>\n",
       "      <td>3.0</td>\n",
       "    </tr>\n",
       "    <tr>\n",
       "      <th>3</th>\n",
       "      <td>2013-10-02</td>\n",
       "      <td>Anaheim Ducks</td>\n",
       "      <td>1.0</td>\n",
       "      <td>Colorado Avalanche</td>\n",
       "      <td>6.0</td>\n",
       "    </tr>\n",
       "    <tr>\n",
       "      <th>4</th>\n",
       "      <td>2013-10-02</td>\n",
       "      <td>Buffalo Sabres</td>\n",
       "      <td>1.0</td>\n",
       "      <td>Detroit Red Wings</td>\n",
       "      <td>2.0</td>\n",
       "    </tr>\n",
       "    <tr>\n",
       "      <th>5</th>\n",
       "      <td>2013-10-02</td>\n",
       "      <td>Toronto Maple Leafs</td>\n",
       "      <td>3.0</td>\n",
       "      <td>Philadelphia Flyers</td>\n",
       "      <td>1.0</td>\n",
       "    </tr>\n",
       "  </tbody>\n",
       "</table>\n",
       "</div>"
      ],
      "text/plain": [
       "        Date         Visitor Team  Visitor Goals            Home Team  \\\n",
       "0 2013-10-01  Washington Capitals            4.0   Chicago Blackhawks   \n",
       "1 2013-10-01        Winnipeg Jets            5.0      Edmonton Oilers   \n",
       "2 2013-10-01  Toronto Maple Leafs            4.0   Montreal Canadiens   \n",
       "3 2013-10-02        Anaheim Ducks            1.0   Colorado Avalanche   \n",
       "4 2013-10-02       Buffalo Sabres            1.0    Detroit Red Wings   \n",
       "5 2013-10-02  Toronto Maple Leafs            3.0  Philadelphia Flyers   \n",
       "\n",
       "   Home Goals  \n",
       "0         6.0  \n",
       "1         4.0  \n",
       "2         3.0  \n",
       "3         6.0  \n",
       "4         2.0  \n",
       "5         1.0  "
      ]
     },
     "execution_count": 8,
     "metadata": {},
     "output_type": "execute_result"
    }
   ],
   "source": [
    "# Lets view our cleaned dataframe\n",
    "results.ix[:5]"
   ]
  },
  {
   "cell_type": "markdown",
   "metadata": {
    "slideshow": {
     "slide_type": "slide"
    }
   },
   "source": [
    "## Team Name Change\n",
    "\n",
    "In preparing our model, we will be working with team names from the 2013 and 2014 seasons.\n",
    "\n",
    "- There is a change in a team name moving forward in the 2015 season and we will need to address this issue early on\n",
    "- The Phoenix Coyotes changed their name to the Arizona Coyotes\n",
    "\n",
    "<img src=\"coyotes.png\">\n",
    "Let's change their team name in our dataframe:"
   ]
  },
  {
   "cell_type": "code",
   "execution_count": 9,
   "metadata": {
    "collapsed": false,
    "slideshow": {
     "slide_type": "fragment"
    }
   },
   "outputs": [],
   "source": [
    "# The team names appear in both the 'Visitor Team' and 'Home Team' columns so we need to make changes in both columns\n",
    "results[\"Visitor Team\"] = results[\"Visitor Team\"].replace(\"Phoenix Coyotes\", \"Arizona Coyotes\")\n",
    "results[\"Home Team\"] = results[\"Home Team\"].replace(\"Phoenix Coyotes\", \"Arizona Coyotes\")"
   ]
  },
  {
   "cell_type": "markdown",
   "metadata": {
    "slideshow": {
     "slide_type": "slide"
    }
   },
   "source": [
    "## Create the class to predict\n",
    "\n",
    "We are trying to predict whether a certain team won their match. In our model, we will predict whether the Home Team won their match. Lets create the appropriate attribute:"
   ]
  },
  {
   "cell_type": "code",
   "execution_count": 10,
   "metadata": {
    "collapsed": false,
    "scrolled": true,
    "slideshow": {
     "slide_type": "fragment"
    }
   },
   "outputs": [
    {
     "data": {
      "text/html": [
       "<div>\n",
       "<table border=\"1\" class=\"dataframe\">\n",
       "  <thead>\n",
       "    <tr style=\"text-align: right;\">\n",
       "      <th></th>\n",
       "      <th>Date</th>\n",
       "      <th>Visitor Team</th>\n",
       "      <th>Visitor Goals</th>\n",
       "      <th>Home Team</th>\n",
       "      <th>Home Goals</th>\n",
       "      <th>HomeWin</th>\n",
       "    </tr>\n",
       "  </thead>\n",
       "  <tbody>\n",
       "    <tr>\n",
       "      <th>0</th>\n",
       "      <td>2013-10-01</td>\n",
       "      <td>Washington Capitals</td>\n",
       "      <td>4.0</td>\n",
       "      <td>Chicago Blackhawks</td>\n",
       "      <td>6.0</td>\n",
       "      <td>True</td>\n",
       "    </tr>\n",
       "    <tr>\n",
       "      <th>1</th>\n",
       "      <td>2013-10-01</td>\n",
       "      <td>Winnipeg Jets</td>\n",
       "      <td>5.0</td>\n",
       "      <td>Edmonton Oilers</td>\n",
       "      <td>4.0</td>\n",
       "      <td>False</td>\n",
       "    </tr>\n",
       "    <tr>\n",
       "      <th>2</th>\n",
       "      <td>2013-10-01</td>\n",
       "      <td>Toronto Maple Leafs</td>\n",
       "      <td>4.0</td>\n",
       "      <td>Montreal Canadiens</td>\n",
       "      <td>3.0</td>\n",
       "      <td>False</td>\n",
       "    </tr>\n",
       "    <tr>\n",
       "      <th>3</th>\n",
       "      <td>2013-10-02</td>\n",
       "      <td>Anaheim Ducks</td>\n",
       "      <td>1.0</td>\n",
       "      <td>Colorado Avalanche</td>\n",
       "      <td>6.0</td>\n",
       "      <td>True</td>\n",
       "    </tr>\n",
       "    <tr>\n",
       "      <th>4</th>\n",
       "      <td>2013-10-02</td>\n",
       "      <td>Buffalo Sabres</td>\n",
       "      <td>1.0</td>\n",
       "      <td>Detroit Red Wings</td>\n",
       "      <td>2.0</td>\n",
       "      <td>True</td>\n",
       "    </tr>\n",
       "    <tr>\n",
       "      <th>5</th>\n",
       "      <td>2013-10-02</td>\n",
       "      <td>Toronto Maple Leafs</td>\n",
       "      <td>3.0</td>\n",
       "      <td>Philadelphia Flyers</td>\n",
       "      <td>1.0</td>\n",
       "      <td>False</td>\n",
       "    </tr>\n",
       "  </tbody>\n",
       "</table>\n",
       "</div>"
      ],
      "text/plain": [
       "        Date         Visitor Team  Visitor Goals            Home Team  \\\n",
       "0 2013-10-01  Washington Capitals            4.0   Chicago Blackhawks   \n",
       "1 2013-10-01        Winnipeg Jets            5.0      Edmonton Oilers   \n",
       "2 2013-10-01  Toronto Maple Leafs            4.0   Montreal Canadiens   \n",
       "3 2013-10-02        Anaheim Ducks            1.0   Colorado Avalanche   \n",
       "4 2013-10-02       Buffalo Sabres            1.0    Detroit Red Wings   \n",
       "5 2013-10-02  Toronto Maple Leafs            3.0  Philadelphia Flyers   \n",
       "\n",
       "   Home Goals HomeWin  \n",
       "0         6.0    True  \n",
       "1         4.0   False  \n",
       "2         3.0   False  \n",
       "3         6.0    True  \n",
       "4         2.0    True  \n",
       "5         1.0   False  "
      ]
     },
     "execution_count": 10,
     "metadata": {},
     "output_type": "execute_result"
    }
   ],
   "source": [
    "# Create a new attribute called \"HomeWin\" to show which team won that game\n",
    "results[\"HomeWin\"] = results[\"Visitor Goals\"] < results[\"Home Goals\"]\n",
    "\n",
    "# This will be the class we are trying to predict for our model, whether the home team won or not\n",
    "y_true = results[\"HomeWin\"].values\n",
    "\n",
    "# Lets view the results\n",
    "results.ix[:5]"
   ]
  },
  {
   "cell_type": "markdown",
   "metadata": {
    "slideshow": {
     "slide_type": "slide"
    }
   },
   "source": [
    "## Create the Performance Indicator\n",
    "\n",
    "We will be using the F1 score as our main indicator of overall model performance. The F1 score is an overall measure of a test's accuracy which considers precision and recall in its formula as shown below:\n",
    "\n",
    "<img src=\"f1formula.png\">"
   ]
  },
  {
   "cell_type": "code",
   "execution_count": 11,
   "metadata": {
    "collapsed": false,
    "slideshow": {
     "slide_type": "fragment"
    }
   },
   "outputs": [],
   "source": [
    "# We will use the classification report and the F1 score metric to show the performance of our model\n",
    "from sklearn.metrics import f1_score, make_scorer, classification_report\n",
    "\n",
    "# Lets designate a scorer object with the F1 score\n",
    "scorer = make_scorer(f1_score, pos_label=None, average='weighted')"
   ]
  },
  {
   "cell_type": "markdown",
   "metadata": {
    "slideshow": {
     "slide_type": "slide"
    }
   },
   "source": [
    "## Creating a baseline to beat\n",
    "In general, home teams win games more frequently - this is shown throughout many other sports as well.\n",
    "\n",
    "We need our model to beat the default dataset we were given without any major changes. The performance for the dataset is as follows:"
   ]
  },
  {
   "cell_type": "code",
   "execution_count": 12,
   "metadata": {
    "collapsed": false,
    "slideshow": {
     "slide_type": "fragment"
    }
   },
   "outputs": [
    {
     "name": "stdout",
     "output_type": "stream",
     "text": [
      "Overall Home Win Percentage in Dataset: 54.0%\n"
     ]
    }
   ],
   "source": [
    "# Calculate the number of times home teams won in the dataset\n",
    "n_games = results[\"HomeWin\"].count()\n",
    "n_homewins = results[\"HomeWin\"].sum()\n",
    "win_percentage = n_homewins / n_games\n",
    "\n",
    "print(\"Overall Home Win Percentage in Dataset: {0:.1f}%\".format(100 * win_percentage))"
   ]
  },
  {
   "cell_type": "markdown",
   "metadata": {
    "slideshow": {
     "slide_type": "fragment"
    }
   },
   "source": [
    "**Note**: 54.0% is the chance we'll guess correctly if we were to randomly pick a game and guess that the home team won"
   ]
  },
  {
   "cell_type": "code",
   "execution_count": 13,
   "metadata": {
    "collapsed": false,
    "scrolled": true,
    "slideshow": {
     "slide_type": "slide"
    }
   },
   "outputs": [
    {
     "name": "stdout",
     "output_type": "stream",
     "text": [
      "F1 Score: 0.3782\n"
     ]
    },
    {
     "name": "stderr",
     "output_type": "stream",
     "text": [
      "C:\\Users\\Kevin\\Anaconda3\\lib\\site-packages\\sklearn\\metrics\\classification.py:1074: UndefinedMetricWarning: F-score is ill-defined and being set to 0.0 in labels with no predicted samples.\n",
      "  'precision', 'predicted', average, warn_for)\n"
     ]
    }
   ],
   "source": [
    "from sklearn.metrics import f1_score\n",
    "y_pred = [1] * len(y_true)\n",
    "print(\"F1 Score: {:.4f}\".format(f1_score(y_true, y_pred, pos_label=None, average=\"weighted\")))"
   ]
  },
  {
   "cell_type": "markdown",
   "metadata": {
    "slideshow": {
     "slide_type": "fragment"
    }
   },
   "source": [
    "**We need to build a model that produces a better F1 Score than 0.3782.**\n",
    "\n",
    "Let us create some more attributes to produce a better model!"
   ]
  },
  {
   "cell_type": "markdown",
   "metadata": {
    "slideshow": {
     "slide_type": "slide"
    }
   },
   "source": [
    "## New Feature: Whether the home or visitor team won their last game"
   ]
  },
  {
   "cell_type": "markdown",
   "metadata": {
    "slideshow": {
     "slide_type": "fragment"
    }
   },
   "source": [
    "Let us create features that indicates whether each team won their last game. \n",
    "\n",
    "- Losing a game can easily cause stress and may demotivate players to do better in successive games\n",
    "- On the flipside, winning a game can add to players' egos and make them more lax in successive games\n",
    "\n",
    "Whether these statements are true or not, lets see if this new feature can improve our model."
   ]
  },
  {
   "cell_type": "code",
   "execution_count": 14,
   "metadata": {
    "collapsed": true,
    "slideshow": {
     "slide_type": "slide"
    }
   },
   "outputs": [],
   "source": [
    "# Create the new features with a default value of \"False\"\n",
    "results[\"HomeLastWin\"] = False\n",
    "results[\"VisitorLastWin\"] = False"
   ]
  },
  {
   "cell_type": "code",
   "execution_count": 15,
   "metadata": {
    "collapsed": false,
    "slideshow": {
     "slide_type": "fragment"
    }
   },
   "outputs": [],
   "source": [
    "from collections import defaultdict\n",
    "won_last = defaultdict(int)\n",
    "\n",
    "for index, row in results.iterrows(): # for each row\n",
    "    home_team = row[\"Home Team\"]\n",
    "    visitor_team = row[\"Visitor Team\"]\n",
    "    row[\"HomeLastWin\"] = won_last[home_team]\n",
    "    row[\"VisitorLastWin\"] = won_last[visitor_team]\n",
    "    results.ix[index] = row\n",
    "    # Set which team won\n",
    "    won_last[home_team] = row[\"HomeWin\"] # set HomeLastWin as True if \"HomeWin\" is True\n",
    "    won_last[visitor_team] = not row[\"HomeWin\"] # otherwise set \"VisitorLastWin\" as True"
   ]
  },
  {
   "cell_type": "code",
   "execution_count": 16,
   "metadata": {
    "collapsed": false,
    "scrolled": true,
    "slideshow": {
     "slide_type": "slide"
    }
   },
   "outputs": [
    {
     "data": {
      "text/html": [
       "<div>\n",
       "<table border=\"1\" class=\"dataframe\">\n",
       "  <thead>\n",
       "    <tr style=\"text-align: right;\">\n",
       "      <th></th>\n",
       "      <th>Date</th>\n",
       "      <th>Visitor Team</th>\n",
       "      <th>Visitor Goals</th>\n",
       "      <th>Home Team</th>\n",
       "      <th>Home Goals</th>\n",
       "      <th>HomeWin</th>\n",
       "      <th>HomeLastWin</th>\n",
       "      <th>VisitorLastWin</th>\n",
       "    </tr>\n",
       "  </thead>\n",
       "  <tbody>\n",
       "    <tr>\n",
       "      <th>20</th>\n",
       "      <td>2013-10-05</td>\n",
       "      <td>Detroit Red Wings</td>\n",
       "      <td>1.0</td>\n",
       "      <td>Boston Bruins</td>\n",
       "      <td>4.0</td>\n",
       "      <td>True</td>\n",
       "      <td>True</td>\n",
       "      <td>True</td>\n",
       "    </tr>\n",
       "    <tr>\n",
       "      <th>21</th>\n",
       "      <td>2013-10-05</td>\n",
       "      <td>Tampa Bay Lightning</td>\n",
       "      <td>3.0</td>\n",
       "      <td>Chicago Blackhawks</td>\n",
       "      <td>2.0</td>\n",
       "      <td>False</td>\n",
       "      <td>True</td>\n",
       "      <td>False</td>\n",
       "    </tr>\n",
       "    <tr>\n",
       "      <th>22</th>\n",
       "      <td>2013-10-05</td>\n",
       "      <td>Washington Capitals</td>\n",
       "      <td>1.0</td>\n",
       "      <td>Dallas Stars</td>\n",
       "      <td>2.0</td>\n",
       "      <td>True</td>\n",
       "      <td>False</td>\n",
       "      <td>True</td>\n",
       "    </tr>\n",
       "    <tr>\n",
       "      <th>23</th>\n",
       "      <td>2013-10-05</td>\n",
       "      <td>Anaheim Ducks</td>\n",
       "      <td>4.0</td>\n",
       "      <td>Minnesota Wild</td>\n",
       "      <td>3.0</td>\n",
       "      <td>False</td>\n",
       "      <td>False</td>\n",
       "      <td>False</td>\n",
       "    </tr>\n",
       "    <tr>\n",
       "      <th>24</th>\n",
       "      <td>2013-10-05</td>\n",
       "      <td>Philadelphia Flyers</td>\n",
       "      <td>1.0</td>\n",
       "      <td>Montreal Canadiens</td>\n",
       "      <td>4.0</td>\n",
       "      <td>True</td>\n",
       "      <td>False</td>\n",
       "      <td>False</td>\n",
       "    </tr>\n",
       "    <tr>\n",
       "      <th>25</th>\n",
       "      <td>2013-10-05</td>\n",
       "      <td>Columbus Blue Jackets</td>\n",
       "      <td>3.0</td>\n",
       "      <td>New York Islanders</td>\n",
       "      <td>2.0</td>\n",
       "      <td>False</td>\n",
       "      <td>True</td>\n",
       "      <td>False</td>\n",
       "    </tr>\n",
       "  </tbody>\n",
       "</table>\n",
       "</div>"
      ],
      "text/plain": [
       "         Date           Visitor Team  Visitor Goals           Home Team  \\\n",
       "20 2013-10-05      Detroit Red Wings            1.0       Boston Bruins   \n",
       "21 2013-10-05    Tampa Bay Lightning            3.0  Chicago Blackhawks   \n",
       "22 2013-10-05    Washington Capitals            1.0        Dallas Stars   \n",
       "23 2013-10-05          Anaheim Ducks            4.0      Minnesota Wild   \n",
       "24 2013-10-05    Philadelphia Flyers            1.0  Montreal Canadiens   \n",
       "25 2013-10-05  Columbus Blue Jackets            3.0  New York Islanders   \n",
       "\n",
       "    Home Goals HomeWin HomeLastWin VisitorLastWin  \n",
       "20         4.0    True        True           True  \n",
       "21         2.0   False        True          False  \n",
       "22         2.0    True       False           True  \n",
       "23         3.0   False       False          False  \n",
       "24         4.0    True       False          False  \n",
       "25         2.0   False        True          False  "
      ]
     },
     "execution_count": 16,
     "metadata": {},
     "output_type": "execute_result"
    }
   ],
   "source": [
    "results.ix[20:25]"
   ]
  },
  {
   "cell_type": "markdown",
   "metadata": {
    "slideshow": {
     "slide_type": "slide"
    }
   },
   "source": [
    "## Classification with Decision Trees\n",
    "\n",
    "Lets use the Decision Tree Classifier as our model to predict which team won the game."
   ]
  },
  {
   "cell_type": "code",
   "execution_count": 17,
   "metadata": {
    "collapsed": false,
    "slideshow": {
     "slide_type": "fragment"
    }
   },
   "outputs": [
    {
     "name": "stdout",
     "output_type": "stream",
     "text": [
      "Using only our new attributes, whether each team won their last match, we get an F1 Score of:\n",
      "F1 Score: 0.4407\n"
     ]
    },
    {
     "name": "stderr",
     "output_type": "stream",
     "text": [
      "C:\\Users\\Kevin\\Anaconda3\\lib\\site-packages\\sklearn\\metrics\\classification.py:1074: UndefinedMetricWarning: F-score is ill-defined and being set to 0.0 in labels with no predicted samples.\n",
      "  'precision', 'predicted', average, warn_for)\n"
     ]
    }
   ],
   "source": [
    "# Note: Cross validation score uses multiple folds\n",
    "from sklearn.cross_validation import cross_val_score\n",
    "\n",
    "# Create a new dataframe with just the necessary features\n",
    "X_previousWins = results[[\"HomeLastWin\", \"VisitorLastWin\"]].values\n",
    "\n",
    "# The object, tree_clf, has the Decision Tree Classifier ready\n",
    "from sklearn.tree import DecisionTreeClassifier\n",
    "# random_state is for reproducibility if you would like to follow along\n",
    "tree_clf = DecisionTreeClassifier(random_state = 10)\n",
    "\n",
    "# Compute our F1 Score\n",
    "scores = cross_val_score(tree_clf, X_previousWins, y_true, scoring=scorer)\n",
    "print(\"Using only our new attributes, whether each team won their last match, we get an F1 Score of:\")\n",
    "print(\"F1 Score: {0:.4f}\".format(np.mean(scores)))"
   ]
  },
  {
   "cell_type": "markdown",
   "metadata": {
    "slideshow": {
     "slide_type": "slide"
    }
   },
   "source": [
    "Our F1 Score has improved significantly:"
   ]
  },
  {
   "cell_type": "code",
   "execution_count": 18,
   "metadata": {
    "collapsed": false,
    "scrolled": false,
    "slideshow": {
     "slide_type": "fragment"
    }
   },
   "outputs": [
    {
     "data": {
      "text/html": [
       "<div>\n",
       "<table border=\"1\" class=\"dataframe\">\n",
       "  <thead>\n",
       "    <tr style=\"text-align: right;\">\n",
       "      <th></th>\n",
       "      <th>F1 Score</th>\n",
       "      <th>Overall Performance Boost</th>\n",
       "    </tr>\n",
       "  </thead>\n",
       "  <tbody>\n",
       "    <tr>\n",
       "      <th>Baseline</th>\n",
       "      <td>0.3728</td>\n",
       "      <td>0.0000</td>\n",
       "    </tr>\n",
       "    <tr>\n",
       "      <th>Last Win</th>\n",
       "      <td>0.4407</td>\n",
       "      <td>0.0679</td>\n",
       "    </tr>\n",
       "  </tbody>\n",
       "</table>\n",
       "</div>"
      ],
      "text/plain": [
       "          F1 Score  Overall Performance Boost\n",
       "Baseline    0.3728                     0.0000\n",
       "Last Win    0.4407                     0.0679"
      ]
     },
     "execution_count": 18,
     "metadata": {},
     "output_type": "execute_result"
    }
   ],
   "source": [
    "df = pd.DataFrame(index=['Baseline', 'Last Win'],data=[(0.3728, 0),(0.4407, 0.4407-0.3728)], \\\n",
    "                  columns=['F1 Score', 'Overall Performance Boost'])\n",
    "df"
   ]
  },
  {
   "cell_type": "markdown",
   "metadata": {
    "slideshow": {
     "slide_type": "slide"
    }
   },
   "source": [
    "## New Feature: Win Streaks\n",
    "\n",
    "Similar to before, having a win streak can easily boost morale where a lose streak can cause ripples/ problems within the team leading to poor performance for each successive game.\n",
    "\n",
    "Can we improve our model by incorporating win streaks?"
   ]
  },
  {
   "cell_type": "code",
   "execution_count": 19,
   "metadata": {
    "collapsed": false,
    "slideshow": {
     "slide_type": "fragment"
    }
   },
   "outputs": [
    {
     "data": {
      "text/html": [
       "<div>\n",
       "<table border=\"1\" class=\"dataframe\">\n",
       "  <thead>\n",
       "    <tr style=\"text-align: right;\">\n",
       "      <th></th>\n",
       "      <th>Date</th>\n",
       "      <th>Visitor Team</th>\n",
       "      <th>Visitor Goals</th>\n",
       "      <th>Home Team</th>\n",
       "      <th>Home Goals</th>\n",
       "      <th>HomeWin</th>\n",
       "      <th>HomeLastWin</th>\n",
       "      <th>VisitorLastWin</th>\n",
       "      <th>HomeWinStreak</th>\n",
       "      <th>VisitorWinStreak</th>\n",
       "    </tr>\n",
       "  </thead>\n",
       "  <tbody>\n",
       "    <tr>\n",
       "      <th>25</th>\n",
       "      <td>2013-10-05</td>\n",
       "      <td>Columbus Blue Jackets</td>\n",
       "      <td>3.0</td>\n",
       "      <td>New York Islanders</td>\n",
       "      <td>2.0</td>\n",
       "      <td>False</td>\n",
       "      <td>True</td>\n",
       "      <td>False</td>\n",
       "      <td>1</td>\n",
       "      <td>0</td>\n",
       "    </tr>\n",
       "    <tr>\n",
       "      <th>26</th>\n",
       "      <td>2013-10-05</td>\n",
       "      <td>Buffalo Sabres</td>\n",
       "      <td>1.0</td>\n",
       "      <td>Pittsburgh Penguins</td>\n",
       "      <td>4.0</td>\n",
       "      <td>True</td>\n",
       "      <td>True</td>\n",
       "      <td>False</td>\n",
       "      <td>1</td>\n",
       "      <td>0</td>\n",
       "    </tr>\n",
       "    <tr>\n",
       "      <th>27</th>\n",
       "      <td>2013-10-05</td>\n",
       "      <td>Arizona Coyotes</td>\n",
       "      <td>1.0</td>\n",
       "      <td>San Jose Sharks</td>\n",
       "      <td>4.0</td>\n",
       "      <td>True</td>\n",
       "      <td>True</td>\n",
       "      <td>True</td>\n",
       "      <td>1</td>\n",
       "      <td>1</td>\n",
       "    </tr>\n",
       "    <tr>\n",
       "      <th>28</th>\n",
       "      <td>2013-10-05</td>\n",
       "      <td>Florida Panthers</td>\n",
       "      <td>0.0</td>\n",
       "      <td>St. Louis Blues</td>\n",
       "      <td>7.0</td>\n",
       "      <td>True</td>\n",
       "      <td>True</td>\n",
       "      <td>True</td>\n",
       "      <td>1</td>\n",
       "      <td>1</td>\n",
       "    </tr>\n",
       "    <tr>\n",
       "      <th>29</th>\n",
       "      <td>2013-10-05</td>\n",
       "      <td>Ottawa Senators</td>\n",
       "      <td>4.0</td>\n",
       "      <td>Toronto Maple Leafs</td>\n",
       "      <td>5.0</td>\n",
       "      <td>True</td>\n",
       "      <td>True</td>\n",
       "      <td>True</td>\n",
       "      <td>2</td>\n",
       "      <td>1</td>\n",
       "    </tr>\n",
       "    <tr>\n",
       "      <th>30</th>\n",
       "      <td>2013-10-05</td>\n",
       "      <td>Edmonton Oilers</td>\n",
       "      <td>2.0</td>\n",
       "      <td>Vancouver Canucks</td>\n",
       "      <td>6.0</td>\n",
       "      <td>True</td>\n",
       "      <td>False</td>\n",
       "      <td>False</td>\n",
       "      <td>0</td>\n",
       "      <td>0</td>\n",
       "    </tr>\n",
       "  </tbody>\n",
       "</table>\n",
       "</div>"
      ],
      "text/plain": [
       "         Date           Visitor Team  Visitor Goals            Home Team  \\\n",
       "25 2013-10-05  Columbus Blue Jackets            3.0   New York Islanders   \n",
       "26 2013-10-05         Buffalo Sabres            1.0  Pittsburgh Penguins   \n",
       "27 2013-10-05        Arizona Coyotes            1.0      San Jose Sharks   \n",
       "28 2013-10-05       Florida Panthers            0.0      St. Louis Blues   \n",
       "29 2013-10-05        Ottawa Senators            4.0  Toronto Maple Leafs   \n",
       "30 2013-10-05        Edmonton Oilers            2.0    Vancouver Canucks   \n",
       "\n",
       "    Home Goals HomeWin HomeLastWin VisitorLastWin  HomeWinStreak  \\\n",
       "25         2.0   False        True          False              1   \n",
       "26         4.0    True        True          False              1   \n",
       "27         4.0    True        True           True              1   \n",
       "28         7.0    True        True           True              1   \n",
       "29         5.0    True        True           True              2   \n",
       "30         6.0    True       False          False              0   \n",
       "\n",
       "    VisitorWinStreak  \n",
       "25                 0  \n",
       "26                 0  \n",
       "27                 1  \n",
       "28                 1  \n",
       "29                 1  \n",
       "30                 0  "
      ]
     },
     "execution_count": 19,
     "metadata": {},
     "output_type": "execute_result"
    }
   ],
   "source": [
    "# Set our new features with a default value of 0\n",
    "results[\"HomeWinStreak\"] = 0\n",
    "results[\"VisitorWinStreak\"] = 0\n",
    "\n",
    "from collections import defaultdict\n",
    "win_streak = defaultdict(int)\n",
    "\n",
    "for index, row in results.iterrows(): # Similar to before\n",
    "    home_team = row[\"Home Team\"]\n",
    "    visitor_team = row[\"Visitor Team\"]\n",
    "    row[\"HomeWinStreak\"] = win_streak[home_team]\n",
    "    row[\"VisitorWinStreak\"] = win_streak[visitor_team]\n",
    "    results.ix[index] = row\n",
    "    \n",
    "    if row[\"HomeWin\"]:\n",
    "        win_streak[home_team] += 1 # if \"HomeWin\" is True, increase home_team by 1\n",
    "        win_streak[visitor_team] = 0\n",
    "    else:\n",
    "        win_streak[home_team] = 0\n",
    "        win_streak[visitor_team] += 1 # if \"HomeWin\" is False, increase visitor_team by 1\n",
    "\n",
    "results.ix[25:30]"
   ]
  },
  {
   "cell_type": "code",
   "execution_count": 20,
   "metadata": {
    "collapsed": false,
    "slideshow": {
     "slide_type": "slide"
    }
   },
   "outputs": [
    {
     "name": "stdout",
     "output_type": "stream",
     "text": [
      "By adding win streaks, our new F1 score is:\n",
      "F1 Score: 0.4940\n"
     ]
    }
   ],
   "source": [
    "# Lets run the decision tree classifier again to see if the F1 Score has improved\n",
    "tree_clf = DecisionTreeClassifier(random_state = 10)\n",
    "X_winstreak = results[[\"HomeLastWin\", \"VisitorLastWin\", \"HomeWinStreak\", \"VisitorWinStreak\"]].values\n",
    "scores = cross_val_score(tree_clf, X_winstreak, y_true, scoring=scorer)\n",
    "print(\"By adding win streaks, our new F1 score is:\")\n",
    "print(\"F1 Score: {0:.4f}\".format(np.mean(scores)))"
   ]
  },
  {
   "cell_type": "markdown",
   "metadata": {
    "slideshow": {
     "slide_type": "slide"
    }
   },
   "source": [
    "Our F1 Score has improved again albeit at a lower rate.\n",
    "\n",
    "**Note:** The Overall Performance Boost for \"Last Win\" is the difference between \"Last Win\" and \"Baseline\" whereas the Overall Performance Boost for successive tests is a comparison with \"Last Win\" and not Baseline."
   ]
  },
  {
   "cell_type": "code",
   "execution_count": 21,
   "metadata": {
    "collapsed": false,
    "slideshow": {
     "slide_type": "fragment"
    }
   },
   "outputs": [
    {
     "data": {
      "text/html": [
       "<div>\n",
       "<table border=\"1\" class=\"dataframe\">\n",
       "  <thead>\n",
       "    <tr style=\"text-align: right;\">\n",
       "      <th></th>\n",
       "      <th>F1 Score</th>\n",
       "      <th>Overall Performance Boost</th>\n",
       "    </tr>\n",
       "  </thead>\n",
       "  <tbody>\n",
       "    <tr>\n",
       "      <th>Baseline</th>\n",
       "      <td>0.3728</td>\n",
       "      <td>0.0000</td>\n",
       "    </tr>\n",
       "    <tr>\n",
       "      <th>Last Win</th>\n",
       "      <td>0.4407</td>\n",
       "      <td>0.0679</td>\n",
       "    </tr>\n",
       "    <tr>\n",
       "      <th>Win Streaks &amp; Last Win</th>\n",
       "      <td>0.4940</td>\n",
       "      <td>0.0533</td>\n",
       "    </tr>\n",
       "  </tbody>\n",
       "</table>\n",
       "</div>"
      ],
      "text/plain": [
       "                        F1 Score  Overall Performance Boost\n",
       "Baseline                  0.3728                     0.0000\n",
       "Last Win                  0.4407                     0.0679\n",
       "Win Streaks & Last Win    0.4940                     0.0533"
      ]
     },
     "execution_count": 21,
     "metadata": {},
     "output_type": "execute_result"
    }
   ],
   "source": [
    "df2 = pd.DataFrame(index=['Win Streaks & Last Win'], data=[(0.4940, 0.4940-0.4407)], \\\n",
    "                   columns=['F1 Score', 'Overall Performance Boost'])\n",
    "df = df.append(df2)\n",
    "df"
   ]
  },
  {
   "cell_type": "markdown",
   "metadata": {
    "slideshow": {
     "slide_type": "fragment"
    }
   },
   "source": [
    "So far, all our features have been based on the same dataset. The more we build on the same dataset, the more we risk overfitting our data and not being able to predict instances when using unseen or new data\n",
    "\n",
    "One dataset we can consider is the standings of all the teams from the previous year."
   ]
  },
  {
   "cell_type": "markdown",
   "metadata": {
    "slideshow": {
     "slide_type": "slide"
    }
   },
   "source": [
    "## Avoiding Overfitting: Team Rankings from the previous Season"
   ]
  },
  {
   "cell_type": "markdown",
   "metadata": {
    "slideshow": {
     "slide_type": "fragment"
    }
   },
   "source": [
    "If a team placed high last season, their momentum/ spirit is most likely to be very high. Imagine a team that was essentially in last place that lost every game and was put up against the team that had won last season in a landslide, would the losing team be nervous about their upcoming game? This information could potentially be a strong indicator in determining the outcome of a game.\n",
    "\n",
    "Let us create a new feature that checks whether the home team was ranked higher than the visitor team from the last season."
   ]
  },
  {
   "cell_type": "code",
   "execution_count": 22,
   "metadata": {
    "collapsed": false,
    "scrolled": true,
    "slideshow": {
     "slide_type": "slide"
    }
   },
   "outputs": [
    {
     "data": {
      "text/html": [
       "<div>\n",
       "<table border=\"1\" class=\"dataframe\">\n",
       "  <thead>\n",
       "    <tr style=\"text-align: right;\">\n",
       "      <th></th>\n",
       "      <th>Rk</th>\n",
       "      <th>Overall</th>\n",
       "      <th>Home</th>\n",
       "      <th>Road</th>\n",
       "      <th>EAS</th>\n",
       "      <th>WES</th>\n",
       "      <th>ATL</th>\n",
       "      <th>NEA</th>\n",
       "      <th>SEA</th>\n",
       "      <th>CEN</th>\n",
       "      <th>NWE</th>\n",
       "      <th>PAC</th>\n",
       "      <th>≤1</th>\n",
       "      <th>≥3</th>\n",
       "      <th>Jan</th>\n",
       "      <th>Feb</th>\n",
       "      <th>Mar</th>\n",
       "      <th>Apr</th>\n",
       "    </tr>\n",
       "    <tr>\n",
       "      <th>Team</th>\n",
       "      <th></th>\n",
       "      <th></th>\n",
       "      <th></th>\n",
       "      <th></th>\n",
       "      <th></th>\n",
       "      <th></th>\n",
       "      <th></th>\n",
       "      <th></th>\n",
       "      <th></th>\n",
       "      <th></th>\n",
       "      <th></th>\n",
       "      <th></th>\n",
       "      <th></th>\n",
       "      <th></th>\n",
       "      <th></th>\n",
       "      <th></th>\n",
       "      <th></th>\n",
       "      <th></th>\n",
       "    </tr>\n",
       "  </thead>\n",
       "  <tbody>\n",
       "    <tr>\n",
       "      <th>Chicago Blackhawks</th>\n",
       "      <td>1</td>\n",
       "      <td>36-7-5</td>\n",
       "      <td>18-3-3</td>\n",
       "      <td>18-4-2</td>\n",
       "      <td>NaN</td>\n",
       "      <td>36-7-5</td>\n",
       "      <td>NaN</td>\n",
       "      <td>NaN</td>\n",
       "      <td>NaN</td>\n",
       "      <td>16-1-1</td>\n",
       "      <td>10-3-2</td>\n",
       "      <td>10-3-2</td>\n",
       "      <td>19-3-5</td>\n",
       "      <td>10-1-0</td>\n",
       "      <td>6-0-1</td>\n",
       "      <td>11-0-2</td>\n",
       "      <td>9-5-0</td>\n",
       "      <td>10-2-2</td>\n",
       "    </tr>\n",
       "    <tr>\n",
       "      <th>Pittsburgh Penguins</th>\n",
       "      <td>2</td>\n",
       "      <td>36-12-0</td>\n",
       "      <td>18-6-0</td>\n",
       "      <td>18-6-0</td>\n",
       "      <td>36-12-0</td>\n",
       "      <td>NaN</td>\n",
       "      <td>12-6-0</td>\n",
       "      <td>12-3-0</td>\n",
       "      <td>12-3-0</td>\n",
       "      <td>NaN</td>\n",
       "      <td>NaN</td>\n",
       "      <td>NaN</td>\n",
       "      <td>13-2-0</td>\n",
       "      <td>10-5-0</td>\n",
       "      <td>4-3-0</td>\n",
       "      <td>9-5-0</td>\n",
       "      <td>15-0-0</td>\n",
       "      <td>8-4-0</td>\n",
       "    </tr>\n",
       "    <tr>\n",
       "      <th>Anaheim Ducks</th>\n",
       "      <td>3</td>\n",
       "      <td>30-12-6</td>\n",
       "      <td>16-7-1</td>\n",
       "      <td>14-5-5</td>\n",
       "      <td>NaN</td>\n",
       "      <td>30-12-6</td>\n",
       "      <td>NaN</td>\n",
       "      <td>NaN</td>\n",
       "      <td>NaN</td>\n",
       "      <td>10-2-3</td>\n",
       "      <td>12-3-0</td>\n",
       "      <td>8-7-3</td>\n",
       "      <td>14-2-6</td>\n",
       "      <td>9-5-0</td>\n",
       "      <td>3-1-1</td>\n",
       "      <td>11-2-0</td>\n",
       "      <td>9-4-4</td>\n",
       "      <td>7-5-1</td>\n",
       "    </tr>\n",
       "    <tr>\n",
       "      <th>Montreal Canadiens</th>\n",
       "      <td>4</td>\n",
       "      <td>29-14-5</td>\n",
       "      <td>14-7-3</td>\n",
       "      <td>15-7-2</td>\n",
       "      <td>29-14-5</td>\n",
       "      <td>NaN</td>\n",
       "      <td>7-6-2</td>\n",
       "      <td>9-6-3</td>\n",
       "      <td>13-2-0</td>\n",
       "      <td>NaN</td>\n",
       "      <td>NaN</td>\n",
       "      <td>NaN</td>\n",
       "      <td>12-6-5</td>\n",
       "      <td>14-6-0</td>\n",
       "      <td>4-2-0</td>\n",
       "      <td>9-2-3</td>\n",
       "      <td>9-3-2</td>\n",
       "      <td>7-7-0</td>\n",
       "    </tr>\n",
       "    <tr>\n",
       "      <th>Boston Bruins</th>\n",
       "      <td>5</td>\n",
       "      <td>28-14-6</td>\n",
       "      <td>16-5-3</td>\n",
       "      <td>12-9-3</td>\n",
       "      <td>28-14-6</td>\n",
       "      <td>NaN</td>\n",
       "      <td>7-6-2</td>\n",
       "      <td>10-6-2</td>\n",
       "      <td>11-2-2</td>\n",
       "      <td>NaN</td>\n",
       "      <td>NaN</td>\n",
       "      <td>NaN</td>\n",
       "      <td>13-7-6</td>\n",
       "      <td>7-2-0</td>\n",
       "      <td>5-1-1</td>\n",
       "      <td>8-1-1</td>\n",
       "      <td>9-6-2</td>\n",
       "      <td>6-6-2</td>\n",
       "    </tr>\n",
       "  </tbody>\n",
       "</table>\n",
       "</div>"
      ],
      "text/plain": [
       "                     Rk  Overall    Home    Road      EAS      WES     ATL  \\\n",
       "Team                                                                         \n",
       "Chicago Blackhawks    1   36-7-5  18-3-3  18-4-2      NaN   36-7-5     NaN   \n",
       "Pittsburgh Penguins   2  36-12-0  18-6-0  18-6-0  36-12-0      NaN  12-6-0   \n",
       "Anaheim Ducks         3  30-12-6  16-7-1  14-5-5      NaN  30-12-6     NaN   \n",
       "Montreal Canadiens    4  29-14-5  14-7-3  15-7-2  29-14-5      NaN   7-6-2   \n",
       "Boston Bruins         5  28-14-6  16-5-3  12-9-3  28-14-6      NaN   7-6-2   \n",
       "\n",
       "                        NEA     SEA     CEN     NWE     PAC      ≤1      ≥3  \\\n",
       "Team                                                                          \n",
       "Chicago Blackhawks      NaN     NaN  16-1-1  10-3-2  10-3-2  19-3-5  10-1-0   \n",
       "Pittsburgh Penguins  12-3-0  12-3-0     NaN     NaN     NaN  13-2-0  10-5-0   \n",
       "Anaheim Ducks           NaN     NaN  10-2-3  12-3-0   8-7-3  14-2-6   9-5-0   \n",
       "Montreal Canadiens    9-6-3  13-2-0     NaN     NaN     NaN  12-6-5  14-6-0   \n",
       "Boston Bruins        10-6-2  11-2-2     NaN     NaN     NaN  13-7-6   7-2-0   \n",
       "\n",
       "                       Jan     Feb     Mar     Apr  \n",
       "Team                                                \n",
       "Chicago Blackhawks   6-0-1  11-0-2   9-5-0  10-2-2  \n",
       "Pittsburgh Penguins  4-3-0   9-5-0  15-0-0   8-4-0  \n",
       "Anaheim Ducks        3-1-1  11-2-0   9-4-4   7-5-1  \n",
       "Montreal Canadiens   4-2-0   9-2-3   9-3-2   7-7-0  \n",
       "Boston Bruins        5-1-1   8-1-1   9-6-2   6-6-2  "
      ]
     },
     "execution_count": 22,
     "metadata": {},
     "output_type": "execute_result"
    }
   ],
   "source": [
    "# Import data\n",
    "ladders_filename = ('leagues_NHL_2013_standings_standings.csv')\n",
    "ladder = pd.read_csv(ladders_filename, skiprows = [0,1], index_col=\"Team\")\n",
    "ladder[:5]"
   ]
  },
  {
   "cell_type": "code",
   "execution_count": 23,
   "metadata": {
    "collapsed": false,
    "scrolled": false,
    "slideshow": {
     "slide_type": "slide"
    }
   },
   "outputs": [
    {
     "data": {
      "text/html": [
       "<div>\n",
       "<table border=\"1\" class=\"dataframe\">\n",
       "  <thead>\n",
       "    <tr style=\"text-align: right;\">\n",
       "      <th></th>\n",
       "      <th>Date</th>\n",
       "      <th>Visitor Team</th>\n",
       "      <th>Visitor Goals</th>\n",
       "      <th>Home Team</th>\n",
       "      <th>Home Goals</th>\n",
       "      <th>HomeWin</th>\n",
       "      <th>HomeTeamRanksHigher</th>\n",
       "    </tr>\n",
       "  </thead>\n",
       "  <tbody>\n",
       "    <tr>\n",
       "      <th>0</th>\n",
       "      <td>2013-10-01</td>\n",
       "      <td>Washington Capitals</td>\n",
       "      <td>4.0</td>\n",
       "      <td>Chicago Blackhawks</td>\n",
       "      <td>6.0</td>\n",
       "      <td>True</td>\n",
       "      <td>True</td>\n",
       "    </tr>\n",
       "    <tr>\n",
       "      <th>1</th>\n",
       "      <td>2013-10-01</td>\n",
       "      <td>Winnipeg Jets</td>\n",
       "      <td>5.0</td>\n",
       "      <td>Edmonton Oilers</td>\n",
       "      <td>4.0</td>\n",
       "      <td>False</td>\n",
       "      <td>False</td>\n",
       "    </tr>\n",
       "    <tr>\n",
       "      <th>2</th>\n",
       "      <td>2013-10-01</td>\n",
       "      <td>Toronto Maple Leafs</td>\n",
       "      <td>4.0</td>\n",
       "      <td>Montreal Canadiens</td>\n",
       "      <td>3.0</td>\n",
       "      <td>False</td>\n",
       "      <td>True</td>\n",
       "    </tr>\n",
       "    <tr>\n",
       "      <th>3</th>\n",
       "      <td>2013-10-02</td>\n",
       "      <td>Anaheim Ducks</td>\n",
       "      <td>1.0</td>\n",
       "      <td>Colorado Avalanche</td>\n",
       "      <td>6.0</td>\n",
       "      <td>True</td>\n",
       "      <td>False</td>\n",
       "    </tr>\n",
       "    <tr>\n",
       "      <th>4</th>\n",
       "      <td>2013-10-02</td>\n",
       "      <td>Buffalo Sabres</td>\n",
       "      <td>1.0</td>\n",
       "      <td>Detroit Red Wings</td>\n",
       "      <td>2.0</td>\n",
       "      <td>True</td>\n",
       "      <td>True</td>\n",
       "    </tr>\n",
       "  </tbody>\n",
       "</table>\n",
       "</div>"
      ],
      "text/plain": [
       "        Date         Visitor Team  Visitor Goals           Home Team  \\\n",
       "0 2013-10-01  Washington Capitals            4.0  Chicago Blackhawks   \n",
       "1 2013-10-01        Winnipeg Jets            5.0     Edmonton Oilers   \n",
       "2 2013-10-01  Toronto Maple Leafs            4.0  Montreal Canadiens   \n",
       "3 2013-10-02        Anaheim Ducks            1.0  Colorado Avalanche   \n",
       "4 2013-10-02       Buffalo Sabres            1.0   Detroit Red Wings   \n",
       "\n",
       "   Home Goals HomeWin HomeTeamRanksHigher  \n",
       "0         6.0    True                True  \n",
       "1         4.0   False               False  \n",
       "2         3.0   False                True  \n",
       "3         6.0    True               False  \n",
       "4         2.0    True                True  "
      ]
     },
     "execution_count": 23,
     "metadata": {},
     "output_type": "execute_result"
    }
   ],
   "source": [
    "# Create our new feature - HomeTeamRanksHigher\n",
    "\n",
    "def home_team_ranks_higher(row):\n",
    "    home_team = row[\"Home Team\"]\n",
    "    visitor_team = row[\"Visitor Team\"]\n",
    "    \n",
    "    # Need to address the team name changes\n",
    "    if home_team == \"Arizona Coyotes\":\n",
    "        home_team = \"Phoenix Coyotes\"\n",
    "    if visitor_team == \"Arizona Coyotes\":\n",
    "        visitor_team = \"Phoenix Coyotes\"\n",
    "    \n",
    "    home_rank = ladder.loc[home_team][\"Rk\"]\n",
    "    visitor_rank = ladder.loc[visitor_team][\"Rk\"]\n",
    "    return home_rank < visitor_rank # Remember, a higher ranking is a lower number (in other words, 1st place > 2nd place)\n",
    "\n",
    "# This will return a boolean result, either True or False and the line below will take whatever this boolean result is\n",
    "# and place it into \"HomeTeamRanksHigher\"\n",
    "results[\"HomeTeamRanksHigher\"] = results.apply(home_team_ranks_higher, axis=1)\n",
    "results[:5][['Date', 'Visitor Team', 'Visitor Goals', 'Home Team', 'Home Goals', 'HomeWin', 'HomeTeamRanksHigher']]"
   ]
  },
  {
   "cell_type": "code",
   "execution_count": 24,
   "metadata": {
    "collapsed": false,
    "scrolled": true,
    "slideshow": {
     "slide_type": "slide"
    }
   },
   "outputs": [
    {
     "name": "stdout",
     "output_type": "stream",
     "text": [
      "By considering last seasons' rankings, the new F1 score is:\n",
      "F1: 0.5488\n"
     ]
    }
   ],
   "source": [
    "# Lets build our Decision Tree Classifier to see if there are any improvements\n",
    "X_homehigher = results[[\"HomeLastWin\", \"VisitorLastWin\", \"HomeTeamRanksHigher\"]].values\n",
    "\n",
    "tree_clf = DecisionTreeClassifier(random_state=10)\n",
    "scores = cross_val_score(tree_clf, X_homehigher, y_true, scoring=scorer)\n",
    "print(\"By considering last seasons' rankings, the new F1 score is:\")\n",
    "print(\"F1: {0:.4f}\".format(np.mean(scores)))"
   ]
  },
  {
   "cell_type": "markdown",
   "metadata": {
    "slideshow": {
     "slide_type": "slide"
    }
   },
   "source": [
    "When compared to win streaks, a teams' ranking from last season provides a much larger boost in performance."
   ]
  },
  {
   "cell_type": "code",
   "execution_count": 25,
   "metadata": {
    "collapsed": false,
    "scrolled": true,
    "slideshow": {
     "slide_type": "fragment"
    }
   },
   "outputs": [
    {
     "data": {
      "text/html": [
       "<div>\n",
       "<table border=\"1\" class=\"dataframe\">\n",
       "  <thead>\n",
       "    <tr style=\"text-align: right;\">\n",
       "      <th></th>\n",
       "      <th>F1 Score</th>\n",
       "      <th>Overall Performance Boost</th>\n",
       "    </tr>\n",
       "  </thead>\n",
       "  <tbody>\n",
       "    <tr>\n",
       "      <th>Baseline</th>\n",
       "      <td>0.3728</td>\n",
       "      <td>0.0000</td>\n",
       "    </tr>\n",
       "    <tr>\n",
       "      <th>Last Win</th>\n",
       "      <td>0.4407</td>\n",
       "      <td>0.0679</td>\n",
       "    </tr>\n",
       "    <tr>\n",
       "      <th>Win Streaks &amp; Last Win</th>\n",
       "      <td>0.4940</td>\n",
       "      <td>0.0533</td>\n",
       "    </tr>\n",
       "    <tr>\n",
       "      <th>Team Rankings &amp; Last Win</th>\n",
       "      <td>0.5488</td>\n",
       "      <td>0.1081</td>\n",
       "    </tr>\n",
       "  </tbody>\n",
       "</table>\n",
       "</div>"
      ],
      "text/plain": [
       "                          F1 Score  Overall Performance Boost\n",
       "Baseline                    0.3728                     0.0000\n",
       "Last Win                    0.4407                     0.0679\n",
       "Win Streaks & Last Win      0.4940                     0.0533\n",
       "Team Rankings & Last Win    0.5488                     0.1081"
      ]
     },
     "execution_count": 25,
     "metadata": {},
     "output_type": "execute_result"
    }
   ],
   "source": [
    "df2 = pd.DataFrame(index=['Team Rankings & Last Win'], data=[(0.5488,0.5488-0.4407)], \\\n",
    "                   columns=['F1 Score', 'Overall Performance Boost'])\n",
    "df = df.append(df2)\n",
    "df"
   ]
  },
  {
   "cell_type": "markdown",
   "metadata": {
    "slideshow": {
     "slide_type": "slide"
    }
   },
   "source": [
    "## Moving away from default parameters\n",
    "\n",
    "So far we've been using the default parameters when using DecisionTreeClassifier. Could we potentially find a better model if we tweak the parameters?\n",
    "\n",
    "- **GridSearchCV** is a great function in Scikit-Learn that allows you to quickly try many different combinations"
   ]
  },
  {
   "cell_type": "code",
   "execution_count": 26,
   "metadata": {
    "collapsed": false,
    "scrolled": true,
    "slideshow": {
     "slide_type": "fragment"
    }
   },
   "outputs": [
    {
     "name": "stdout",
     "output_type": "stream",
     "text": [
      "F1 Score: 0.5665\n"
     ]
    }
   ],
   "source": [
    "from sklearn.grid_search import GridSearchCV\n",
    "i = list(range(1,21))\n",
    "\n",
    "parameter_space = {\"max_depth\": i}\n",
    "\n",
    "tree_clf = DecisionTreeClassifier(random_state=10)\n",
    "grid = GridSearchCV(tree_clf, parameter_space, scoring=scorer)\n",
    "grid.fit(X_homehigher, y_true)\n",
    "print(\"F1 Score: {0:.4f}\".format(grid.best_score_))"
   ]
  },
  {
   "cell_type": "markdown",
   "metadata": {
    "slideshow": {
     "slide_type": "fragment"
    }
   },
   "source": [
    "There seems to be a parameter setting that is better than the default! We will use GridSearchCV again later on down to find our best model once we have defined all our features."
   ]
  },
  {
   "cell_type": "markdown",
   "metadata": {
    "slideshow": {
     "slide_type": "slide"
    }
   },
   "source": [
    "## New Feature: Did the home team win against the visiting team last game?\n",
    "\n",
    "- Our previous feature, LastWin, only looked at the teams' literal last game they played (so the previous opponent would have been different from the current visiting team)\n",
    "- This feature looks at if the home team won the LAST game against the current visiting team, this last match could easily have happened several games ago"
   ]
  },
  {
   "cell_type": "code",
   "execution_count": 27,
   "metadata": {
    "collapsed": false,
    "slideshow": {
     "slide_type": "slide"
    }
   },
   "outputs": [],
   "source": [
    "last_match_winner = defaultdict(int)\n",
    "\n",
    "def home_team_won_last(row):\n",
    "    home_team = row[\"Home Team\"]\n",
    "    visitor_team = row[\"Visitor Team\"]\n",
    "    \n",
    "    # Sort team names for a consistent ordering (sorts by alphabetical order)\n",
    "    teams = tuple(sorted([home_team, visitor_team]))\n",
    "    \n",
    "    # If the home team won the previous game, the \"result\" will be 1\n",
    "    result = 1 if last_match_winner[teams] == row[\"Home Team\"] else 0\n",
    "    \n",
    "    # Update record for next encounter\n",
    "    winner = row[\"Home Team\"] if row[\"HomeWin\"] else row[\"Visitor Team\"]\n",
    "    \n",
    "    last_match_winner[teams] = winner\n",
    "    return result\n",
    "\n",
    "results[\"HomeTeamWonLast\"] = results.apply(home_team_won_last, axis=1)"
   ]
  },
  {
   "cell_type": "code",
   "execution_count": 28,
   "metadata": {
    "collapsed": false,
    "slideshow": {
     "slide_type": "fragment"
    }
   },
   "outputs": [
    {
     "data": {
      "text/html": [
       "<div>\n",
       "<table border=\"1\" class=\"dataframe\">\n",
       "  <thead>\n",
       "    <tr style=\"text-align: right;\">\n",
       "      <th></th>\n",
       "      <th>Date</th>\n",
       "      <th>Visitor Team</th>\n",
       "      <th>Visitor Goals</th>\n",
       "      <th>Home Team</th>\n",
       "      <th>Home Goals</th>\n",
       "      <th>HomeWin</th>\n",
       "      <th>HomeTeamWonLast</th>\n",
       "    </tr>\n",
       "  </thead>\n",
       "  <tbody>\n",
       "    <tr>\n",
       "      <th>145</th>\n",
       "      <td>2013-10-24</td>\n",
       "      <td>Winnipeg Jets</td>\n",
       "      <td>2.0</td>\n",
       "      <td>Nashville Predators</td>\n",
       "      <td>3.0</td>\n",
       "      <td>True</td>\n",
       "      <td>1</td>\n",
       "    </tr>\n",
       "    <tr>\n",
       "      <th>146</th>\n",
       "      <td>2013-10-24</td>\n",
       "      <td>New York Rangers</td>\n",
       "      <td>1.0</td>\n",
       "      <td>Philadelphia Flyers</td>\n",
       "      <td>2.0</td>\n",
       "      <td>True</td>\n",
       "      <td>0</td>\n",
       "    </tr>\n",
       "    <tr>\n",
       "      <th>147</th>\n",
       "      <td>2013-10-24</td>\n",
       "      <td>Chicago Blackhawks</td>\n",
       "      <td>5.0</td>\n",
       "      <td>Tampa Bay Lightning</td>\n",
       "      <td>6.0</td>\n",
       "      <td>True</td>\n",
       "      <td>1</td>\n",
       "    </tr>\n",
       "    <tr>\n",
       "      <th>148</th>\n",
       "      <td>2013-10-25</td>\n",
       "      <td>Toronto Maple Leafs</td>\n",
       "      <td>2.0</td>\n",
       "      <td>Columbus Blue Jackets</td>\n",
       "      <td>5.0</td>\n",
       "      <td>True</td>\n",
       "      <td>0</td>\n",
       "    </tr>\n",
       "    <tr>\n",
       "      <th>149</th>\n",
       "      <td>2013-10-25</td>\n",
       "      <td>Carolina Hurricanes</td>\n",
       "      <td>2.0</td>\n",
       "      <td>Colorado Avalanche</td>\n",
       "      <td>4.0</td>\n",
       "      <td>True</td>\n",
       "      <td>0</td>\n",
       "    </tr>\n",
       "  </tbody>\n",
       "</table>\n",
       "</div>"
      ],
      "text/plain": [
       "          Date         Visitor Team  Visitor Goals              Home Team  \\\n",
       "145 2013-10-24        Winnipeg Jets            2.0    Nashville Predators   \n",
       "146 2013-10-24     New York Rangers            1.0    Philadelphia Flyers   \n",
       "147 2013-10-24   Chicago Blackhawks            5.0    Tampa Bay Lightning   \n",
       "148 2013-10-25  Toronto Maple Leafs            2.0  Columbus Blue Jackets   \n",
       "149 2013-10-25  Carolina Hurricanes            2.0     Colorado Avalanche   \n",
       "\n",
       "     Home Goals HomeWin  HomeTeamWonLast  \n",
       "145         3.0    True                1  \n",
       "146         2.0    True                0  \n",
       "147         6.0    True                1  \n",
       "148         5.0    True                0  \n",
       "149         4.0    True                0  "
      ]
     },
     "execution_count": 28,
     "metadata": {},
     "output_type": "execute_result"
    }
   ],
   "source": [
    "results[145:150][['Date', 'Visitor Team', 'Visitor Goals', 'Home Team', 'Home Goals', 'HomeWin', 'HomeTeamWonLast']]"
   ]
  },
  {
   "cell_type": "code",
   "execution_count": 29,
   "metadata": {
    "collapsed": false,
    "scrolled": false,
    "slideshow": {
     "slide_type": "slide"
    }
   },
   "outputs": [
    {
     "name": "stdout",
     "output_type": "stream",
     "text": [
      "By considering if the home team won against the visiting team last game, we get a new F1 score of:\n",
      "F1 Score: 0.5351\n"
     ]
    }
   ],
   "source": [
    "# Let us calculate the F1 Score now\n",
    "X_last_win = results[[\"HomeLastWin\", \"VisitorLastWin\", \"HomeTeamRanksHigher\", \"HomeTeamWonLast\"]].values\n",
    "\n",
    "tree_clf = DecisionTreeClassifier(random_state=10)\n",
    "scores = cross_val_score(tree_clf, X_last_win, y_true, scoring=scorer)\n",
    "print(\"By considering if the home team won against the visiting team last game, we get a new F1 score of:\")\n",
    "print(\"F1 Score: {0:.4f}\".format(np.mean(scores)))"
   ]
  },
  {
   "cell_type": "markdown",
   "metadata": {
    "slideshow": {
     "slide_type": "slide"
    }
   },
   "source": [
    "The performance fell as compared to our previous model however the fall in performance is very small. This could be potentially due to noise or other randomness factors."
   ]
  },
  {
   "cell_type": "code",
   "execution_count": 30,
   "metadata": {
    "collapsed": false,
    "slideshow": {
     "slide_type": "fragment"
    }
   },
   "outputs": [
    {
     "data": {
      "text/html": [
       "<div>\n",
       "<table border=\"1\" class=\"dataframe\">\n",
       "  <thead>\n",
       "    <tr style=\"text-align: right;\">\n",
       "      <th></th>\n",
       "      <th>F1 Score</th>\n",
       "      <th>Overall Performance Boost</th>\n",
       "    </tr>\n",
       "  </thead>\n",
       "  <tbody>\n",
       "    <tr>\n",
       "      <th>Baseline</th>\n",
       "      <td>0.3728</td>\n",
       "      <td>0.0000</td>\n",
       "    </tr>\n",
       "    <tr>\n",
       "      <th>Last Win</th>\n",
       "      <td>0.4407</td>\n",
       "      <td>0.0679</td>\n",
       "    </tr>\n",
       "    <tr>\n",
       "      <th>Win Streaks &amp; Last Win</th>\n",
       "      <td>0.4940</td>\n",
       "      <td>0.0533</td>\n",
       "    </tr>\n",
       "    <tr>\n",
       "      <th>Team Rankings &amp; Last Win</th>\n",
       "      <td>0.5488</td>\n",
       "      <td>0.1081</td>\n",
       "    </tr>\n",
       "    <tr>\n",
       "      <th>Won Last, Team Rankings, &amp; Last Win</th>\n",
       "      <td>0.5351</td>\n",
       "      <td>0.0944</td>\n",
       "    </tr>\n",
       "  </tbody>\n",
       "</table>\n",
       "</div>"
      ],
      "text/plain": [
       "                                     F1 Score  Overall Performance Boost\n",
       "Baseline                               0.3728                     0.0000\n",
       "Last Win                               0.4407                     0.0679\n",
       "Win Streaks & Last Win                 0.4940                     0.0533\n",
       "Team Rankings & Last Win               0.5488                     0.1081\n",
       "Won Last, Team Rankings, & Last Win    0.5351                     0.0944"
      ]
     },
     "execution_count": 30,
     "metadata": {},
     "output_type": "execute_result"
    }
   ],
   "source": [
    "df2 = pd.DataFrame(index=[\"Won Last, Team Rankings, & Last Win\"], data=[(0.5351,0.5351-0.4407)], \\\n",
    "                  columns=[\"F1 Score\", \"Overall Performance Boost\"])\n",
    "df = df.append(df2)\n",
    "df"
   ]
  },
  {
   "cell_type": "markdown",
   "metadata": {
    "slideshow": {
     "slide_type": "slide"
    }
   },
   "source": [
    "## Summary of Features and their Performance"
   ]
  },
  {
   "cell_type": "code",
   "execution_count": 31,
   "metadata": {
    "collapsed": false,
    "slideshow": {
     "slide_type": "fragment"
    }
   },
   "outputs": [
    {
     "data": {
      "text/plain": [
       "<matplotlib.axes._subplots.AxesSubplot at 0x280f6ad1d30>"
      ]
     },
     "execution_count": 31,
     "metadata": {},
     "output_type": "execute_result"
    },
    {
     "data": {
      "image/png": "[encoded data removed]",
      "text/plain": [
       "<matplotlib.figure.Figure at 0x280f51605f8>"
      ]
     },
     "metadata": {},
     "output_type": "display_data"
    }
   ],
   "source": [
    "# Let's visually summarize our performance\n",
    "%matplotlib inline\n",
    "import seaborn as sns\n",
    "import matplotlib.pyplot as plt\n",
    "from mpl_toolkits.axes_grid1.axes_divider import make_axes_area_auto_adjustable\n",
    "\n",
    "labels = [\"Baseline\", \"LastWin\", \"WinStreak\", \"TeamRankings\", \"WonLast\"]\n",
    "scores = [0.3728, 0.4407, 0.4940, 0.5488, 0.5351]\n",
    "\n",
    "sns.set(style=\"darkgrid\", context=\"talk\")\n",
    "sns.barplot(labels, scores)"
   ]
  },
  {
   "cell_type": "markdown",
   "metadata": {
    "slideshow": {
     "slide_type": "fragment"
    }
   },
   "source": [
    "By adding new features, we see improvements in our model however by continuously adding features that were derived from the  same dataset, our performance improvements were marginally less from each successive addition\n",
    "\n",
    "- By adding a feature outside of our original dataset, that is \"Rankings\", we saw a noticable performance boost\n",
    "- Adding our final feature \"WonLast\" provided negligible improvements"
   ]
  },
  {
   "cell_type": "markdown",
   "metadata": {
    "collapsed": true
   },
   "source": [
    "## Encoding\n",
    "\n",
    "- One of the most important pieces of information in our dataset we have been ignoring up till now is the actual team themselves\n",
    "- Currently, the team names are stored as strings (e.g. \"Calgary Flames\" or \"Boston Bruins\") and classification methods don't work too well with these\n",
    "- By utilizing the 'one hot encoder' feature provided by Scikit-Learn, we can label the team names in a numeric fashion so that our classifier can understand them and potentially provide much more information to our model in determining winners"
   ]
  },
  {
   "cell_type": "markdown",
   "metadata": {},
   "source": [
    "What will happen is we will be creating a feature that will ask a question:\n",
    "- Was this team the Calgary Flames?\n",
    "\n",
    "And the answer will result in values like:\n",
    "- 1 (for yes) and 0 (for no)"
   ]
  },
  {
   "cell_type": "code",
   "execution_count": 32,
   "metadata": {
    "collapsed": false
   },
   "outputs": [
    {
     "data": {
      "text/plain": [
       "LabelEncoder()"
      ]
     },
     "execution_count": 32,
     "metadata": {},
     "output_type": "execute_result"
    }
   ],
   "source": [
    "from sklearn.preprocessing import LabelEncoder, OneHotEncoder\n",
    "encoding = LabelEncoder() # encoding object has LabelEncoder ready to use\n",
    "encoding.fit(results[\"Home Team\"].values) # give each team a number to identify them by"
   ]
  },
  {
   "cell_type": "code",
   "execution_count": 33,
   "metadata": {
    "collapsed": false
   },
   "outputs": [
    {
     "data": {
      "text/plain": [
       "(array([[ 6, 28],\n",
       "        [11, 29],\n",
       "        [15, 26],\n",
       "        [ 7,  0],\n",
       "        [10,  3]], dtype=int64), (1327, 2))"
      ]
     },
     "execution_count": 33,
     "metadata": {},
     "output_type": "execute_result"
    }
   ],
   "source": [
    "home_teams = encoding.transform(results[\"Home Team\"].values)\n",
    "visitor_teams = encoding.transform(results[\"Visitor Team\"].values)\n",
    "\n",
    "# vstack allows you to stack a sequence of arrays vertically - in this case we do it to make easy comparisons\n",
    "X_teams = np.vstack([home_teams, visitor_teams]).T # transpose\n",
    "\n",
    "X_teams[:5], X_teams.shape"
   ]
  },
  {
   "cell_type": "markdown",
   "metadata": {},
   "source": [
    "In this case, we can see the Chicago Blackhawks (6) is paired with the Washington Capitals (28) in the first pair [6, 28].\n",
    "We know it is these two teams by running the two commands below:"
   ]
  },
  {
   "cell_type": "code",
   "execution_count": 34,
   "metadata": {
    "collapsed": false
   },
   "outputs": [
    {
     "data": {
      "text/plain": [
       "array(['Chicago Blackhawks', 'Edmonton Oilers', 'Montreal Canadiens', ...,\n",
       "       'New York Rangers', 'New York Rangers', 'Los Angeles Kings'], dtype=object)"
      ]
     },
     "execution_count": 34,
     "metadata": {},
     "output_type": "execute_result"
    }
   ],
   "source": [
    "results[\"Home Team\"].values"
   ]
  },
  {
   "cell_type": "code",
   "execution_count": 35,
   "metadata": {
    "collapsed": false
   },
   "outputs": [
    {
     "data": {
      "text/plain": [
       "array(['Washington Capitals', 'Winnipeg Jets', 'Toronto Maple Leafs', ...,\n",
       "       'Los Angeles Kings', 'Los Angeles Kings', 'New York Rangers'], dtype=object)"
      ]
     },
     "execution_count": 35,
     "metadata": {},
     "output_type": "execute_result"
    }
   ],
   "source": [
    "results[\"Visitor Team\"].values"
   ]
  },
  {
   "cell_type": "code",
   "execution_count": 36,
   "metadata": {
    "collapsed": true
   },
   "outputs": [],
   "source": [
    "# Prepare the One Hot Encoder\n",
    "onehot = OneHotEncoder()\n",
    "X_teams = onehot.fit_transform(X_teams).todense() # todense returns a matrix"
   ]
  },
  {
   "cell_type": "code",
   "execution_count": 37,
   "metadata": {
    "collapsed": false
   },
   "outputs": [
    {
     "data": {
      "text/plain": [
       "(1327, 60)"
      ]
     },
     "execution_count": 37,
     "metadata": {},
     "output_type": "execute_result"
    }
   ],
   "source": [
    "X_teams.shape # see matrix dimensions"
   ]
  },
  {
   "cell_type": "code",
   "execution_count": 38,
   "metadata": {
    "collapsed": false
   },
   "outputs": [
    {
     "name": "stdout",
     "output_type": "stream",
     "text": [
      "Home: [[ 0.  0.  0.  0.  0.  0.  1.  0.  0.  0.  0.  0.  0.  0.  0.  0.  0.  0.\n",
      "   0.  0.  0.  0.  0.  0.  0.  0.  0.  0.  0.  0.]]\n",
      "Visitor: [[ 0.  0.  0.  0.  0.  0.  1.  0.  0.  0.  0.  0.  0.  0.  0.  0.  0.  0.\n",
      "   0.  0.  0.  0.  0.  0.  0.  0.  0.  0.  0.  0.]]\n"
     ]
    }
   ],
   "source": [
    "print(\"Home:\", X_teams[0, :30])\n",
    "print(\"Visitor:\", X_teams[0, :30])"
   ]
  },
  {
   "cell_type": "markdown",
   "metadata": {},
   "source": [
    "Above is large matrix (with dimensions 1327 x 60) that has the list of team names and will mark as \"1\" if the team name is found within it.\n",
    "\n",
    "By doing this, our model can now understand team names when doing its calculations."
   ]
  },
  {
   "cell_type": "code",
   "execution_count": 39,
   "metadata": {
    "collapsed": false
   },
   "outputs": [
    {
     "name": "stdout",
     "output_type": "stream",
     "text": [
      "The F1 score using encoded teams is the following: 0.5371\n"
     ]
    }
   ],
   "source": [
    "# Lets build our model using the Decision Tree Classifier\n",
    "tree_clf = DecisionTreeClassifier(random_state=10)\n",
    "scores = cross_val_score(tree_clf, X_teams, y_true, scoring=scorer)\n",
    "\n",
    "# Note: The only feature is the encoder we just made\n",
    "print(\"The F1 score using encoded teams is the following: {0:.4f}\".format(np.mean(scores)))"
   ]
  },
  {
   "cell_type": "markdown",
   "metadata": {},
   "source": [
    "This is not a bad score, recall our F1 scores from this dataframe:"
   ]
  },
  {
   "cell_type": "code",
   "execution_count": 40,
   "metadata": {
    "collapsed": false,
    "scrolled": false
   },
   "outputs": [
    {
     "data": {
      "text/html": [
       "<div>\n",
       "<table border=\"1\" class=\"dataframe\">\n",
       "  <thead>\n",
       "    <tr style=\"text-align: right;\">\n",
       "      <th></th>\n",
       "      <th>F1 Score</th>\n",
       "      <th>Overall Performance Boost</th>\n",
       "    </tr>\n",
       "  </thead>\n",
       "  <tbody>\n",
       "    <tr>\n",
       "      <th>Baseline</th>\n",
       "      <td>0.3728</td>\n",
       "      <td>0.0000</td>\n",
       "    </tr>\n",
       "    <tr>\n",
       "      <th>Last Win</th>\n",
       "      <td>0.4407</td>\n",
       "      <td>0.0679</td>\n",
       "    </tr>\n",
       "    <tr>\n",
       "      <th>Win Streaks &amp; Last Win</th>\n",
       "      <td>0.4940</td>\n",
       "      <td>0.0533</td>\n",
       "    </tr>\n",
       "    <tr>\n",
       "      <th>Team Rankings &amp; Last Win</th>\n",
       "      <td>0.5488</td>\n",
       "      <td>0.1081</td>\n",
       "    </tr>\n",
       "    <tr>\n",
       "      <th>Won Last, Team Rankings, &amp; Last Win</th>\n",
       "      <td>0.5351</td>\n",
       "      <td>0.0944</td>\n",
       "    </tr>\n",
       "  </tbody>\n",
       "</table>\n",
       "</div>"
      ],
      "text/plain": [
       "                                     F1 Score  Overall Performance Boost\n",
       "Baseline                               0.3728                     0.0000\n",
       "Last Win                               0.4407                     0.0679\n",
       "Win Streaks & Last Win                 0.4940                     0.0533\n",
       "Team Rankings & Last Win               0.5488                     0.1081\n",
       "Won Last, Team Rankings, & Last Win    0.5351                     0.0944"
      ]
     },
     "execution_count": 40,
     "metadata": {},
     "output_type": "execute_result"
    }
   ],
   "source": [
    "df"
   ]
  },
  {
   "cell_type": "markdown",
   "metadata": {},
   "source": [
    "# Random Forest Classifier\n",
    "\n",
    "Up to now we've been using only the Decision Tree Classifier as our tool to building our model. Could we potentially produce a better model if we were to use a Random Forest Classifier?"
   ]
  },
  {
   "cell_type": "code",
   "execution_count": 41,
   "metadata": {
    "collapsed": false
   },
   "outputs": [
    {
     "name": "stdout",
     "output_type": "stream",
     "text": [
      "The F1 score using Random Forest Classifier is the following: 0.5460\n"
     ]
    }
   ],
   "source": [
    "# Random Forest Classifier\n",
    "from sklearn.ensemble import RandomForestClassifier\n",
    "forest_clf = RandomForestClassifier(random_state=10)\n",
    "scores = cross_val_score(forest_clf, X_teams, y_true, scoring=scorer)\n",
    "print(\"The F1 score using Random Forest Classifier is the following: {0:.4f}\".format(np.mean(scores)))"
   ]
  },
  {
   "cell_type": "markdown",
   "metadata": {},
   "source": [
    "There was a marginal drop in performance (as compared to our \"Team Rankings & Last Win\" model) which could potentially be explained by overfitting or other randomness factors\n",
    "\n",
    "Could we do better moving away from the default values using GridSearchCV **with** Random Forest Classifier?\n",
    "\n",
    "## GridSearchCV with Random Forest Classifier"
   ]
  },
  {
   "cell_type": "code",
   "execution_count": 42,
   "metadata": {
    "collapsed": false
   },
   "outputs": [
    {
     "name": "stdout",
     "output_type": "stream",
     "text": [
      "F1: 0.5840\n",
      "RandomForestClassifier(bootstrap=True, class_weight=None, criterion='entropy',\n",
      "            max_depth=None, max_features=50, max_leaf_nodes=None,\n",
      "            min_samples_leaf=4, min_samples_split=2,\n",
      "            min_weight_fraction_leaf=0.0, n_estimators=100, n_jobs=1,\n",
      "            oob_score=False, random_state=10, verbose=0, warm_start=False)\n"
     ]
    }
   ],
   "source": [
    "# Will take some time to run\n",
    "parameter_space = {\n",
    "    \"max_features\": [2, 10, 50, 'auto'],\n",
    "    \"n_estimators\": [50, 100, 200],\n",
    "    \"criterion\": [\"gini\", \"entropy\"],\n",
    "    \"min_samples_leaf\": [1,2,4,6],\n",
    "}\n",
    "\n",
    "forest_clf = RandomForestClassifier(random_state=10)\n",
    "grid = GridSearchCV(forest_clf, parameter_space, scoring=scorer)\n",
    "grid.fit(X_teams, y_true)\n",
    "\n",
    "# View results\n",
    "print(\"F1: {0:.4f}\".format(grid.best_score_))\n",
    "print(grid.best_estimator_)"
   ]
  },
  {
   "cell_type": "markdown",
   "metadata": {},
   "source": [
    "Our best result was an F1 score of 0.5840 with the following parameters:\n",
    "\n",
    "- **Max_features** = 50\n",
    "- **n_estimators** = 100 (the number of tress in the forest)\n",
    "- **Criterion** = entropy (information gain/ certainty)\n",
    "- **min_samples_leaf** = 4 (minimum number of samples in a leaf; a split is discarded if after a split, at least one of the leaves contains less than \"min_samples_leaf\" samples)"
   ]
  },
  {
   "cell_type": "markdown",
   "metadata": {},
   "source": [
    "## Combine Encoded attribute with Previous Attributes\n",
    "\n",
    "Let us combine our previous attributes and our new encoded attribute to see the overall performance change:"
   ]
  },
  {
   "cell_type": "code",
   "execution_count": 43,
   "metadata": {
    "collapsed": false,
    "scrolled": false
   },
   "outputs": [
    {
     "name": "stdout",
     "output_type": "stream",
     "text": [
      "(1327, 64)\n"
     ]
    }
   ],
   "source": [
    "X_all = np.hstack([X_last_win, X_teams])\n",
    "print(X_all.shape)"
   ]
  },
  {
   "cell_type": "code",
   "execution_count": 44,
   "metadata": {
    "collapsed": false
   },
   "outputs": [
    {
     "name": "stdout",
     "output_type": "stream",
     "text": [
      "F1 score: 0.5398\n"
     ]
    }
   ],
   "source": [
    "# Decision Tree Classifier\n",
    "tree_clf = DecisionTreeClassifier(random_state=10)\n",
    "scores = cross_val_score(tree_clf, X_all, y_true, scoring=scorer)\n",
    "print(\"F1 score: {0:.4f}\".format(np.mean(scores)))"
   ]
  },
  {
   "cell_type": "code",
   "execution_count": 45,
   "metadata": {
    "collapsed": false
   },
   "outputs": [
    {
     "name": "stdout",
     "output_type": "stream",
     "text": [
      "F1 score: 0.5904\n",
      "RandomForestClassifier(bootstrap=True, class_weight=None, criterion='gini',\n",
      "            max_depth=None, max_features='auto', max_leaf_nodes=None,\n",
      "            min_samples_leaf=6, min_samples_split=2,\n",
      "            min_weight_fraction_leaf=0.0, n_estimators=100, n_jobs=1,\n",
      "            oob_score=False, random_state=10, verbose=0, warm_start=False)\n"
     ]
    }
   ],
   "source": [
    "# Random Forest Classifier\n",
    "parameter_space = {\n",
    "    \"max_features\": [2, 10, 50, 'auto'],\n",
    "    \"n_estimators\": [50, 100, 200],\n",
    "    \"criterion\": [\"gini\", \"entropy\"],\n",
    "    \"min_samples_leaf\": [1,2,4,6],\n",
    "}\n",
    "\n",
    "forest_clf = RandomForestClassifier(random_state=10)\n",
    "grid = GridSearchCV(forest_clf, parameter_space, scoring=scorer)\n",
    "grid.fit(X_all, y_true)\n",
    "print(\"F1 score: {0:.4f}\".format(grid.best_score_))\n",
    "print(grid.best_estimator_)"
   ]
  },
  {
   "cell_type": "markdown",
   "metadata": {},
   "source": [
    "## Final Results\n",
    "\n",
    "Let us take a look at our previous and final results\n",
    "\n",
    "Note:\n",
    "- DT = Decision Tree\n",
    "- RF = Random Forest"
   ]
  },
  {
   "cell_type": "code",
   "execution_count": 46,
   "metadata": {
    "collapsed": false
   },
   "outputs": [
    {
     "data": {
      "image/png": "[encoded data removed]",
      "text/plain": [
       "<matplotlib.figure.Figure at 0x280f6f2e6d8>"
      ]
     },
     "metadata": {},
     "output_type": "display_data"
    }
   ],
   "source": [
    "labels = [\"Baseline\", \"Basic Features (DT)\", \"Encoding (DT)\", \"Encoding (RF)\", \"All (DT)\", \"All (RF)\"]\n",
    "scores = [0.3728, 0.5488, 0.5371, 0.5460, 0.5398, 0.5904]\n",
    "sns.set(style=\"darkgrid\", context=\"talk\")\n",
    "sns.barplot(labels, scores);"
   ]
  },
  {
   "cell_type": "markdown",
   "metadata": {},
   "source": [
    "Our initial F1 score was 0.3782 and by including new features, the overall F1 score improved to 0.5904\n",
    "\n",
    "Now that we have built a model that successfully improved the performance of predicting winning teams, let us test to see if our model is able to do the same on the 2015 season."
   ]
  },
  {
   "cell_type": "markdown",
   "metadata": {},
   "source": [
    "## Testing our Model on the 2015 Season\n",
    "\n",
    "Let us predict the results of the 2015 season by using our previous model. One thing to note is we will need to create all the features again on the 2015 dataset. In the future if the model is sufficient, a data pipeline could be built so that we could feed the data directly to the model."
   ]
  },
  {
   "cell_type": "code",
   "execution_count": 47,
   "metadata": {
    "collapsed": true
   },
   "outputs": [],
   "source": [
    "# Parse files\n",
    "games_filename = ('leagues_NHL_2015_games_games.csv')\n",
    "playoff_filename = ('leagues_NHL_2015_games_games_playoffs.csv')"
   ]
  },
  {
   "cell_type": "code",
   "execution_count": 48,
   "metadata": {
    "collapsed": false
   },
   "outputs": [],
   "source": [
    "# Combine files\n",
    "results1 = pd.read_csv(games_filename, parse_dates=[\"Date\"])\n",
    "results2 = pd.read_csv(playoff_filename, parse_dates=[\"Date\"])\n",
    "games_2015 = results1.append(results2, ignore_index= True)\n",
    "\n",
    "# Fix the names of the columns\n",
    "games_2015.columns = [\"Date\", \"Visitor Team\", \"Visitor Goals\", \"Home Team\", \"Home Goals\", \"Overtime\", \"Blank\", \"Att\", \"LOG\", \"Notes1\", \"Notes2\"]\n",
    "\n",
    "# Delete the columns we do not need\n",
    "games_2015 = games_2015.drop(games_2015.columns[[5,6,7,8,9,10]], axis=1)"
   ]
  },
  {
   "cell_type": "code",
   "execution_count": 49,
   "metadata": {
    "collapsed": true
   },
   "outputs": [],
   "source": [
    "# Create feature HomeWin\n",
    "games_2015[\"HomeWin\"] = games_2015[\"Visitor Goals\"] < games_2015[\"Home Goals\"]"
   ]
  },
  {
   "cell_type": "code",
   "execution_count": 50,
   "metadata": {
    "collapsed": false
   },
   "outputs": [],
   "source": [
    "# Create HomeLastWin and VisitorLastWin\n",
    "games_2015[\"HomeLastWin\"] = False\n",
    "games_2015[\"VisitorLastWin\"] = False\n",
    "\n",
    "won_last = defaultdict(int)\n",
    "\n",
    "for index, row in games_2015.iterrows(): # for each row\n",
    "    home_team = row[\"Home Team\"]\n",
    "    visitor_team = row[\"Visitor Team\"]\n",
    "    row[\"HomeLastWin\"] = won_last[home_team]\n",
    "    row[\"VisitorLastWin\"] = won_last[visitor_team]\n",
    "    games_2015.ix[index] = row\n",
    "    # Set which team won\n",
    "    won_last[home_team] = row[\"HomeWin\"] # set HomeLastWin as True if \"HomeWin\" is True\n",
    "    won_last[visitor_team] = not row[\"HomeWin\"] # otherwise set \"VisitorLastWin\" as True"
   ]
  },
  {
   "cell_type": "code",
   "execution_count": 51,
   "metadata": {
    "collapsed": true
   },
   "outputs": [],
   "source": [
    "# Create HomeWinStreak and VisitorWinStreak\n",
    "games_2015[\"HomeWinStreak\"] = 0\n",
    "games_2015[\"VisitorWinStreak\"] = 0\n",
    "\n",
    "from collections import defaultdict\n",
    "win_streak = defaultdict(int)\n",
    "\n",
    "for index, row in games_2015.iterrows():\n",
    "    home_team = row[\"Home Team\"]\n",
    "    visitor_team = row[\"Visitor Team\"]\n",
    "    row[\"HomeWinStreak\"] = win_streak[home_team]\n",
    "    row[\"VisitorWinStreak\"] = win_streak[visitor_team]\n",
    "    games_2015.ix[index] = row\n",
    "    \n",
    "    if row[\"HomeWin\"]:\n",
    "        win_streak[home_team] += 1 # if \"HomeWin\" is True, increase home_team by 1\n",
    "        win_streak[visitor_team] = 0\n",
    "    else:\n",
    "        win_streak[home_team] = 0\n",
    "        win_streak[visitor_team] += 1 # if \"HomeWin\" is False, increase visitor_team by 1"
   ]
  },
  {
   "cell_type": "code",
   "execution_count": 52,
   "metadata": {
    "collapsed": true
   },
   "outputs": [],
   "source": [
    "# Parse ranking file\n",
    "ladders_filename = ('leagues_NHL_2014_standings_standings.csv')\n",
    "ladder_2014 = pd.read_csv(ladders_filename, skiprows = [0,1], index_col=\"Team\")"
   ]
  },
  {
   "cell_type": "code",
   "execution_count": 53,
   "metadata": {
    "collapsed": false
   },
   "outputs": [],
   "source": [
    "# Create HomeTeamRanksHigher\n",
    "def home_team_ranks_higher(row):\n",
    "    home_team = row[\"Home Team\"]\n",
    "    visitor_team = row[\"Visitor Team\"]\n",
    "    \n",
    "    if home_team == \"Arizona Coyotes\":\n",
    "        home_team = \"Phoenix Coyotes\"\n",
    "    if visitor_team == \"Arizona Coyotes\":\n",
    "        visitor_team = \"Phoenix Coyotes\"\n",
    "    \n",
    "    home_rank = ladder_2014.loc[home_team][\"Rk\"]\n",
    "    visitor_rank = ladder_2014.loc[visitor_team][\"Rk\"]\n",
    "    return home_rank < visitor_rank # Remember, a higher ranking is a lower number (in other words, 1st place > 2nd place)\n",
    "\n",
    "# This will return a boolean result, either True or False and the command below will take whatever this boolean result is\n",
    "# and place it into \"HomeTeamRanksHigher\"\n",
    "games_2015[\"HomeTeamRanksHigher\"] = games_2015.apply(home_team_ranks_higher, axis=1)"
   ]
  },
  {
   "cell_type": "code",
   "execution_count": 54,
   "metadata": {
    "collapsed": true
   },
   "outputs": [],
   "source": [
    "# Create HomeTeamWonLast\n",
    "last_match_winner = defaultdict(int)\n",
    "\n",
    "def home_team_won_last(row):\n",
    "    home_team = row[\"Home Team\"] # get the strings of team names into the respective variables\n",
    "    visitor_team = row[\"Visitor Team\"]\n",
    "    \n",
    "    # Sort team names for a consistent ordering (sorts by alphabetical order)\n",
    "    teams = tuple(sorted([home_team, visitor_team]))\n",
    "    \n",
    "    # So if the home team won the previous game, the \"result\" of this function will be 1, otherwise 0 if they didn't win\n",
    "    result = 1 if last_match_winner[teams] == row[\"Home Team\"] else 0\n",
    "    \n",
    "    # Update record for next encounter and place the string of the winning team into the dictionary \"last_match_winner\"\n",
    "    winner = row[\"Home Team\"] if row[\"HomeWin\"] else row[\"Visitor Team\"]\n",
    "    \n",
    "    last_match_winner[teams] = winner\n",
    "    return result\n",
    "\n",
    "games_2015[\"HomeTeamWonLast\"] = games_2015.apply(home_team_won_last, axis=1)"
   ]
  },
  {
   "cell_type": "code",
   "execution_count": 55,
   "metadata": {
    "collapsed": false
   },
   "outputs": [],
   "source": [
    "# Extract all the features we need\n",
    "X_basic_features_2015 = games_2015[[\"HomeLastWin\", \"VisitorLastWin\", \"HomeTeamRanksHigher\", \"HomeTeamWonLast\"]]"
   ]
  },
  {
   "cell_type": "markdown",
   "metadata": {},
   "source": [
    "Important note:\n",
    "\n",
    "We **need to use the same encoder as before** because the team names have already been encoded and attempting to encode them again will result in different numbers for different teams."
   ]
  },
  {
   "cell_type": "code",
   "execution_count": 56,
   "metadata": {
    "collapsed": false
   },
   "outputs": [],
   "source": [
    "home_teams_2015 = encoding.transform(games_2015[\"Home Team\"].values)\n",
    "visitor_teams_2015 = encoding.transform(games_2015[\"Visitor Team\"].values)\n",
    "X_teams_2015 = np.vstack([home_teams_2015, visitor_teams_2015]).T\n",
    "X_teams_2015 = onehot.transform(X_teams_2015).todense()"
   ]
  },
  {
   "cell_type": "code",
   "execution_count": 57,
   "metadata": {
    "collapsed": false
   },
   "outputs": [
    {
     "data": {
      "text/plain": [
       "(1319, 64)"
      ]
     },
     "execution_count": 57,
     "metadata": {},
     "output_type": "execute_result"
    }
   ],
   "source": [
    "# Combine everything\n",
    "X_all_2015 = np.hstack([X_basic_features_2015, X_teams_2015])\n",
    "X_all_2015.shape"
   ]
  },
  {
   "cell_type": "markdown",
   "metadata": {},
   "source": [
    "# 2015 Baseline"
   ]
  },
  {
   "cell_type": "code",
   "execution_count": 58,
   "metadata": {
    "collapsed": true
   },
   "outputs": [],
   "source": [
    "# This will be the class we are trying to predict for our model, whether the home team won or not\n",
    "y_test = games_2015[\"HomeWin\"].values"
   ]
  },
  {
   "cell_type": "code",
   "execution_count": 59,
   "metadata": {
    "collapsed": false,
    "scrolled": false
   },
   "outputs": [
    {
     "name": "stdout",
     "output_type": "stream",
     "text": [
      "Home team wins 54.36% of matches\n",
      "F1 Score: 0.3829\n",
      "             precision    recall  f1-score   support\n",
      "\n",
      "      False       0.00      0.00      0.00       602\n",
      "       True       0.54      1.00      0.70       717\n",
      "\n",
      "avg / total       0.30      0.54      0.38      1319\n",
      "\n"
     ]
    },
    {
     "name": "stderr",
     "output_type": "stream",
     "text": [
      "C:\\Users\\Kevin\\Anaconda3\\lib\\site-packages\\sklearn\\metrics\\classification.py:1074: UndefinedMetricWarning: F-score is ill-defined and being set to 0.0 in labels with no predicted samples.\n",
      "  'precision', 'predicted', average, warn_for)\n",
      "C:\\Users\\Kevin\\Anaconda3\\lib\\site-packages\\sklearn\\metrics\\classification.py:1074: UndefinedMetricWarning: Precision and F-score are ill-defined and being set to 0.0 in labels with no predicted samples.\n",
      "  'precision', 'predicted', average, warn_for)\n"
     ]
    }
   ],
   "source": [
    "print(\"Home team wins {:.2f}% of matches\".format(100*np.mean(y_test)))\n",
    "y_pred = [1] * len(y_test)\n",
    "print(\"F1 Score: {:.4f}\".format(f1_score(y_test, y_pred, pos_label=None, average='weighted')))\n",
    "print(classification_report(y_test, y_pred))"
   ]
  },
  {
   "cell_type": "markdown",
   "metadata": {},
   "source": [
    "**We are attempting to outperform an F1 score of 0.38.**"
   ]
  },
  {
   "cell_type": "code",
   "execution_count": 60,
   "metadata": {
    "collapsed": false,
    "scrolled": true
   },
   "outputs": [
    {
     "name": "stdout",
     "output_type": "stream",
     "text": [
      "             precision    recall  f1-score   support\n",
      "\n",
      "      False       0.51      0.44      0.47       602\n",
      "       True       0.58      0.65      0.61       717\n",
      "\n",
      "avg / total       0.55      0.55      0.55      1319\n",
      "\n"
     ]
    }
   ],
   "source": [
    "# Predict 2015 results using our 2014 model\n",
    "y_pred = grid.predict(X_all_2015)\n",
    "\n",
    "from sklearn.metrics import classification_report\n",
    "print(classification_report(y_test, y_pred))"
   ]
  },
  {
   "cell_type": "code",
   "execution_count": 61,
   "metadata": {
    "collapsed": false
   },
   "outputs": [
    {
     "name": "stdout",
     "output_type": "stream",
     "text": [
      "This results in getting 55.4% of predictions correct!\n"
     ]
    }
   ],
   "source": [
    "print(\"This results in getting {:.1f}% of predictions correct!\".format(100*np.mean(y_pred == y_test)))"
   ]
  },
  {
   "cell_type": "markdown",
   "metadata": {},
   "source": [
    "## Conclusions\n",
    "\n",
    "Our final model we produced based off of the 2014 NHL data uses the Random Forest Classifier with the following parameters:\n",
    "- **n_features** = 'auto'\n",
    "- **n_estimators** = 100\n",
    "- **criterion** = 'gini'\n",
    "- **min_samples_leaf** = 4\n",
    "\n",
    "By using this model, we attempt to predict for the 2015 season. Here are the results for the 2015 season:\n",
    "- **Baseline F1 score**: 0.38 \n",
    "- **Model F1 score**: 0.55\n",
    "\n",
    "\n",
    "- **Baseline accuracy**: 54.36%\n",
    "- **Model accuracy**: 55.4%\n",
    "\n",
    "While we significantly improved our F1 score, the overall accuracy has barely improved; guessing at random is almost just as good as using our model to predict."
   ]
  },
  {
   "cell_type": "markdown",
   "metadata": {},
   "source": [
    "## Special Thanks\n",
    "\n",
    "Special thanks to Robert Layton for the inspiration of creating this project. Some of the earlier steps were similarly replicated from his book, Learning Data Mining with Python.\n",
    "\n",
    "<img src=\"book_cover.jpg\">\n",
    "\n",
    "Here is a link to an excerpt to his book: https://www.packtpub.com/books/content/predicting-sports-winners-decision-trees-and-pandas"
   ]
  }
 ],
 "metadata": {
  "kernelspec": {
   "display_name": "Python 3",
   "language": "python",
   "name": "python3"
  },
  "language_info": {
   "codemirror_mode": {
    "name": "ipython",
    "version": 3
   },
   "file_extension": ".py",
   "mimetype": "text/x-python",
   "name": "python",
   "nbconvert_exporter": "python",
   "pygments_lexer": "ipython3",
   "version": "3.5.1"
  }
 },
 "nbformat": 4,
 "nbformat_minor": 0
}
